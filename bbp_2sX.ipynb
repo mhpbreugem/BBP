{
  "nbformat": 4,
  "nbformat_minor": 0,
  "metadata": {
    "colab": {
      "provenance": [],
      "include_colab_link": true
    },
    "kernelspec": {
      "name": "julia-1.9",
      "display_name": "Julia 1.9.4"
    }
  },
  "cells": [
    {
      "cell_type": "markdown",
      "metadata": {
        "id": "view-in-github",
        "colab_type": "text"
      },
      "source": [
        "<a href=\"https://colab.research.google.com/github/mhpbreugem/BBP/blob/main/bbp_2sX.ipynb\" target=\"_parent\"><img src=\"https://colab.research.google.com/assets/colab-badge.svg\" alt=\"Open In Colab\"/></a>"
      ]
    },
    {
      "cell_type": "code",
      "source": [
        "using Distributions, Random, NLsolve, LinearAlgebra, Printf, Optim, BenchmarkTools, KrylovKit"
      ],
      "metadata": {
        "id": "m6WaLxaNYZMz"
      },
      "execution_count": 1,
      "outputs": []
    },
    {
      "cell_type": "code",
      "execution_count": 2,
      "metadata": {
        "colab": {
          "base_uri": "https://localhost:8080/"
        },
        "id": "KUTXwhjJnQos",
        "outputId": "0c596298-b0e4-4a98-9ee2-ac69c50dc9ac"
      },
      "outputs": [
        {
          "output_type": "execute_result",
          "data": {
            "text/plain": [
              "675"
            ]
          },
          "metadata": {},
          "execution_count": 2
        }
      ],
      "source": [
        "# Chapter 0: Parameters\n",
        "\n",
        "# Economic parameters\n",
        "const β = 0.95\n",
        "const γ = 4.0\n",
        "const e0 = 5.0\n",
        "const EΠ = 1.0\n",
        "const Π0 = 1.0\n",
        "const θXbar = 1.0\n",
        "const θYbar = 1.0\n",
        "const μθX = 0.5\n",
        "const σθX = 0.2\n",
        "const μθY = 0.5\n",
        "const σθY = 0.1\n",
        "const σΠ = 0.4\n",
        "const W0 = e0\n",
        "\n",
        "const ΞЮ = [repeat([x], 1) for x in range(0.1, stop=1.0, length=10)]\n",
        "\n",
        "# Grid parameters\n",
        "const Nσπ = 7\n",
        "const NNσπ = 1\n",
        "const Nπ = 2 * Nσπ * NNσπ + 1  # number of grid points for payoff\n",
        "\n",
        "const NσΠ = 2\n",
        "const NNσΠ = 1\n",
        "const NΠ = 2 * NσΠ * NNσΠ + 1  # number of grid points for payoff\n",
        "\n",
        "const NθX = 3\n",
        "const NθY = 3\n",
        "const NσθX = 1\n",
        "const NσθY = 1\n",
        "\n",
        "# Derived midpoints\n",
        "const μπi = (Nπ + 1) ÷ 2\n",
        "const μΠi = (NΠ + 1) ÷ 2\n",
        "const μθXi = (NθX + 1) ÷ 2\n",
        "\n",
        "# Total number of states\n",
        "const NS = Nπ\n",
        "const NN = NθX *NθX * NθY * NΠ* NΠ"
      ]
    },
    {
      "cell_type": "code",
      "source": [
        "# Chapter 1: Grid Construction\n",
        "\n",
        "# Conjectured Payoffs\n",
        "const ππ = collect(range(EΠ - Nσπ*σΠ, EΠ + Nσπ*σΠ, length=Nπ))\n",
        "const πω = pdf.(Normal(EΠ, σΠ), ππ)\n",
        "const πΩ = πω ./ sum(πω)\n",
        "\n",
        "# Payoff Parameters\n",
        "const Δ1 = Π0\n",
        "const Δ2 = ππ\n",
        "\n",
        "# True Payoffs\n",
        "const ΞΠ = EΠ .+ σΠ .* range(-NσΠ, NσΠ, length=NΠ)\n",
        "const ππ_to_index = Dict(round(ππ[πi], digits=8) => πi for πi in 1:Nπ)\n",
        "const ΞΠi = [ππ_to_index[round(ΞΠ[Πi], digits=8)] for Πi in 1:NΠ]\n",
        "\n",
        "# Signals\n",
        "const S = ππ\n",
        "const ϵ = S .- ππ'\n",
        "\n",
        "@inline function ψϵω(Ю, ϵx)\n",
        "    σϵ = 1 / sqrt(Ю)\n",
        "    pdf(Normal(0.0, σϵ), ϵx)\n",
        "end\n",
        "\n",
        "function φSΩπ(Ю)\n",
        "    σϵ = 1 / sqrt(Ю[1])\n",
        "    SΩ = [pdf(Normal(π, σϵ), s) for π in ππ, s in S]\n",
        "    SΩnorm = SΩ ./ sum(SΩ, dims=2)\n",
        "    return SΩnorm\n",
        "end\n",
        "\n",
        "# Noise Trader Demand\n",
        "const ΞθX = μθX .+ σθX .* range(-NσθX, NσθX, length=NθX)\n",
        "const ΞθY = μθY .+ σθY .* range(-NσθY, NσθY, length=NθY)\n",
        "\n",
        "const Σθ = [σθX^2 0 0; 0 σθX^2 0; 0 0 σθY^2]\n",
        "const dist = MvNormal([μθX, μθX, μθY], Σθ)\n",
        "θXYωω(xA, xB, y) = pdf(dist, [xA, xB, y])"
      ],
      "metadata": {
        "id": "WOZOfb6dYoVq",
        "colab": {
          "base_uri": "https://localhost:8080/"
        },
        "outputId": "185afab8-386c-484b-e765-f621632f35ad"
      },
      "execution_count": 3,
      "outputs": [
        {
          "output_type": "execute_result",
          "data": {
            "text/plain": [
              "θXYωω (generic function with 1 method)"
            ]
          },
          "metadata": {},
          "execution_count": 3
        }
      ]
    },
    {
      "cell_type": "code",
      "source": [
        "# Chapter 2: Learning\n",
        "\n",
        "function φΞΩI(Ю, XAΣ, XBΣ, YΣ)\n",
        "    ψϵ = ψϵω.(Ю, ϵ)                             # NS × Nπ\n",
        "    θXY = θXYωω.(θXbar .- XAΣ, θXbar .- XBΣ, θYbar .- YΣ)  # Nπ × Nπ\n",
        "\n",
        "    ψπ = ψϵ .* transpose(πΩ)                     # NS × Nπ\n",
        "    ψπ_T = transpose(ψπ)                        # Nπ × NS\n",
        "\n",
        "    A = reshape(ψπ_T, Nπ, 1, NS, 1)             # Nπ × 1 × NS × 1\n",
        "    B = reshape(ψπ_T, 1, Nπ, 1, NS)             # 1 × Nπ × 1 × NS\n",
        "    Θ = reshape(θXY, Nπ, Nπ, 1, 1)              # Nπ × Nπ × 1 × 1\n",
        "\n",
        "    ΞΩI = A .* B .* Θ                           # Nπ × Nπ × NS × NS\n",
        "    ΞΩI ./= sum(ΞΩI, dims=(1, 2))               # Normalize each (s1, s2) slice\n",
        "\n",
        "    return ΞΩI\n",
        "end"
      ],
      "metadata": {
        "colab": {
          "base_uri": "https://localhost:8080/"
        },
        "id": "LHvSeiWw1ZqQ",
        "outputId": "beb796ce-306f-4836-b95a-c3a7554e43af"
      },
      "execution_count": 4,
      "outputs": [
        {
          "output_type": "execute_result",
          "data": {
            "text/plain": [
              "φΞΩI (generic function with 1 method)"
            ]
          },
          "metadata": {},
          "execution_count": 4
        }
      ]
    },
    {
      "cell_type": "code",
      "source": [
        "# Chapter 3: System of Equations\n",
        "\n",
        "ΣW0 = W0\n",
        "\n",
        "function φSYS(Ж, Ю, Б)\n",
        "    # 1. Unpack inputs\n",
        "    XA = reshape(Ж[1:NS^2], NS, NS)\n",
        "    XB = reshape(Ж[NS^2+1:2NS^2], NS, NS)\n",
        "    C1 = reshape(Ж[2NS^2+1:3NS^2], NS, NS)\n",
        "    PXA, PXB, PY = Ж[3NS^2+1:3NS^2+3]\n",
        "    ΠAi, ΠBi = Б[1], Б[2]\n",
        "    θXA, θXB, θY = ΞθX[Б[3]], ΞθX[Б[4]], ΞθY[Б[5]]\n",
        "\n",
        "    # 2. Aggregates\n",
        "    SΩπ = φSΩπ(Ю)\n",
        "    XAΣ = SΩπ * XA * transpose(SΩπ)\n",
        "    XBΣ = SΩπ * XB * transpose(SΩπ)\n",
        "    C1Σ = SΩπ * C1 * transpose(SΩπ)\n",
        "    YΣ = (ΣW0 .- PXA .* XAΣ .- PXB .* XBΣ .- C1Σ) ./ PY\n",
        "\n",
        "    # 3. Learning tensor Ω\n",
        "    Ω = φΞΩI(Ю, XAΣ, XBΣ, YΣ)\n",
        "\n",
        "    # 4. Final consumption c2(π₁, π₂, s₁, s₂)\n",
        "    Cbase = (W0 .- PXA .* XA .- PXB .* XB .- C1) ./ PY\n",
        "    c2 = reshape(Cbase, 1, 1, NS, NS) .+\n",
        "         reshape(XA, 1, 1, NS, NS) .* reshape(Δ2, Nπ, 1, 1, 1) .+\n",
        "         reshape(XB, 1, 1, NS, NS) .* reshape(Δ2, 1, Nπ, 1, 1)\n",
        "\n",
        "    # 5. Utility weights and parameter vectors\n",
        "    Z = exp.(-γ .* c2)\n",
        "    KA = (-PXA / PY) .+ Δ2\n",
        "    KB = (-PXB / PY) .+ Δ2\n",
        "    KA_flat = repeat(KA, Nπ)\n",
        "    KB_flat = repeat(KB, inner=Nπ)\n",
        "\n",
        "    # 6. Flattened matrix contractions\n",
        "    ZO = Z .* Ω   # shape: Nπ × Nπ × NS × NS\n",
        "    KA_tensor = reshape(KA, Nπ, 1, 1, 1)\n",
        "    KB_tensor = reshape(KB, 1, Nπ, 1, 1)\n",
        "\n",
        "    FOCXA = β .* vec(sum(ZO .* KA_tensor, dims=(1,2)))  # NS² vector\n",
        "    FOCXB = β .* vec(sum(ZO .* KB_tensor, dims=(1,2)))  # NS² vector\n",
        "    FOCC1 = exp.(-γ .* C1)[:] .+ β .* vec(sum(ZO, dims=(1,2))) .* (-1 / PY) # NS² vector\n",
        "\n",
        "    # 7. Market clearing\n",
        "    MCXA = XAΣ[ΞΠi[ΠAi], ΞΠi[ΠBi]] - (θXbar - θXA)\n",
        "    MCXB = XBΣ[ΞΠi[ΠAi], ΞΠi[ΠBi]] - (θXbar - θXB)\n",
        "    MCY  = YΣ[ΞΠi[ΠAi], ΞΠi[ΠBi]] - (θYbar - θY)\n",
        "\n",
        "    # 8. Return full residual system\n",
        "    #return XAΣ\n",
        "    return vcat(FOCXA, FOCXB, FOCC1, MCXA, MCXB, MCY)\n",
        "end\n"
      ],
      "metadata": {
        "colab": {
          "base_uri": "https://localhost:8080/"
        },
        "id": "fSld_BMN4edA",
        "outputId": "f82ea821-0a6c-457d-de60-ddf7afb165b0"
      },
      "execution_count": 5,
      "outputs": [
        {
          "output_type": "execute_result",
          "data": {
            "text/plain": [
              "φSYS (generic function with 1 method)"
            ]
          },
          "metadata": {},
          "execution_count": 5
        }
      ]
    },
    {
      "cell_type": "code",
      "source": [
        "# Chapter 4: Zero-Info Reference\n",
        "const W0ξ = W0\n",
        "\n",
        "function φSYSξ(Жξ, Б)\n",
        "    # 1. Extract prices\n",
        "    PXAξ, PXBξ, PYξ = Жξ[1:3]\n",
        "\n",
        "    # 2. Retrieve θ-shocks\n",
        "    θXA = ΞθX[Б[3]]\n",
        "    θXB = ΞθX[Б[4]]\n",
        "    θY  = ΞθY[Б[5]]\n",
        "\n",
        "    # 3. Direct market clearing values (XAξ, XBξ are scalars)\n",
        "    XAξ = θXbar - θXA\n",
        "    XBξ = θXbar - θXB\n",
        "    Yξ = θYbar - θY\n",
        "\n",
        "    # 4. Residual consumption (scalar)\n",
        "    C1ξ = W0ξ - PXAξ * XAξ - PXBξ * XBξ - PYξ * Yξ\n",
        "\n",
        "    # 5. Construct final consumption grid (Nπ × Nπ)\n",
        "    C2ξ = Yξ .+ XAξ .* reshape(Δ2, Nπ, 1) .+ XBξ .* reshape(Δ2, 1, Nπ)\n",
        "\n",
        "    # 6. Utility values on the grid\n",
        "    U = exp.(-γ .* C2ξ)  # Nπ × Nπ\n",
        "\n",
        "    # 7. Joint probability weights\n",
        "    ππ = πΩ * transpose(πΩ)  # outer product — Nπ × Nπ\n",
        "\n",
        "    # 8. FOCs (expectation over ππ)\n",
        "    FOCXA = β * sum(ππ .* U .* ((-PXAξ / PYξ) .+ reshape(Δ2, Nπ, 1)))\n",
        "    FOCXB = β * sum(ππ .* U .* ((-PXBξ / PYξ) .+ reshape(Δ2, 1, Nπ)))\n",
        "    FOCC1 = exp(-γ * C1ξ) + β * sum(ππ .* U) * (-1.0 / PYξ)\n",
        "\n",
        "    return vcat(FOCXA, FOCXB, FOCC1)\n",
        "end"
      ],
      "metadata": {
        "colab": {
          "base_uri": "https://localhost:8080/"
        },
        "id": "pp8u7508JTTm",
        "outputId": "6daa8abd-3a63-4165-b951-94fb556f8fc0"
      },
      "execution_count": 6,
      "outputs": [
        {
          "output_type": "execute_result",
          "data": {
            "text/plain": [
              "φSYSξ (generic function with 1 method)"
            ]
          },
          "metadata": {},
          "execution_count": 6
        }
      ]
    },
    {
      "cell_type": "code",
      "source": [
        "# Chapter 5: Starting Point\n",
        "\n",
        "function φЖ0(Б)\n",
        "    # 1. Extract shocks\n",
        "    ΠAi, ΠBi = Б[1], Б[2]\n",
        "    θXA = ΞθX[Б[3]]\n",
        "    θXB = ΞθX[Б[4]]\n",
        "    θY  = ΞθY[Б[5]]\n",
        "\n",
        "    # 2. Solve zero-info fixed point\n",
        "    solξ = nlsolve(Жξ -> φSYSξ(Жξ, Б), [0.6, 0.6, 0.7])\n",
        "    PXAξ, PXBξ, PYξ = solξ.zero\n",
        "\n",
        "    # 3. Recover XAξ, XBξ, Yξ\n",
        "    XAξ = θXbar - θXA\n",
        "    XBξ = θXbar - θXB\n",
        "    Yξ  = θYbar - θY\n",
        "\n",
        "    # 4. Compute constant C1ξ from residual budget\n",
        "    C1ξ = W0ξ - PXAξ * XAξ - PXBξ * XBξ - PYξ * Yξ\n",
        "\n",
        "    # 5. Fill full Ж vector\n",
        "    Ж = zeros(3NS^2 + 3)\n",
        "    Ж[1:NS^2]               .= XAξ\n",
        "    Ж[NS^2+1:2NS^2]         .= XBξ\n",
        "    Ж[2NS^2+1:3NS^2]        .= C1ξ\n",
        "    Ж[3NS^2+1:3NS^2+3]      .= [PXAξ, PXBξ, PYξ]\n",
        "\n",
        "    Ж = Ж.+ 1e-3 .* randn(length(Ж))\n",
        "    return Ж\n",
        "end"
      ],
      "metadata": {
        "colab": {
          "base_uri": "https://localhost:8080/"
        },
        "id": "7pT768y6Ps3O",
        "outputId": "efadca3a-4537-4824-90d4-b46c169798fc"
      },
      "execution_count": 7,
      "outputs": [
        {
          "output_type": "execute_result",
          "data": {
            "text/plain": [
              "φЖ0 (generic function with 1 method)"
            ]
          },
          "metadata": {},
          "execution_count": 7
        }
      ]
    },
    {
      "cell_type": "code",
      "source": [
        "# Chapter 6: Solution over extended 5D grid\n",
        "\n",
        "sol_zeros = Array{Vector{Float64}, 5}(undef, NΠ, NΠ, NθX, NθX, NθY)\n",
        "\n",
        "for ΠAi in 1:NΠ\n",
        "    for ΠBi in 1:NΠ\n",
        "        for θXAi in 1:NθX\n",
        "            for θXBi in 1:NθX\n",
        "                for θYi in 1:NθY\n",
        "\n",
        "                    # 1. Pack parameter bundle for this grid point\n",
        "                    Б = [ΠAi, ΠBi, θXAi, θXBi, θYi]\n",
        "\n",
        "                    # 2. Generate starting point using zero-info fixed point\n",
        "                    Ж_ini = φЖ0(Б)\n",
        "\n",
        "                    # 3. Iterate over Ю values for continuation (annealing)\n",
        "                    for Ю_value in range(0.1, stop=1, length=6)\n",
        "                        print(\"\\rΠAi=$ΠAi ΠBi=$ΠBi θXAi=$θXAi θXBi=$θXBi θYi=$θYi Ю=$Ю_value\")\n",
        "                        flush(stdout)\n",
        "\n",
        "                        sol = nlsolve(Ж -> φSYS(Ж, [Ю_value], Б), Ж_ini)\n",
        "\n",
        "                        if sol.f_converged\n",
        "                            Ж_ini = sol.zero\n",
        "                        else\n",
        "                            @warn \"No convergence at ΠAi=$ΠAi ΠBi=$ΠBi θXAi=$θXAi θXBi=$θXBi θYi=$θYi Ю=$Ю_value\"\n",
        "                            break\n",
        "                        end\n",
        "                    end\n",
        "\n",
        "                    # 4. Store result\n",
        "                    sol_zeros[ΠAi, ΠBi, θXAi, θXBi, θYi] = Ж_ini\n",
        "                end\n",
        "            end\n",
        "        end\n",
        "    end\n",
        "end\n"
      ],
      "metadata": {
        "colab": {
          "base_uri": "https://localhost:8080/"
        },
        "id": "7_O64mPU14_R",
        "outputId": "59efab36-97b8-4fb8-97cc-6e0f75dbd110"
      },
      "execution_count": null,
      "outputs": [
        {
          "output_type": "stream",
          "name": "stdout",
          "text": [
            "ΠAi=1 ΠBi=1 θXAi=1 θXBi=2 θYi=3 Ю=0.46"
          ]
        }
      ]
    },
    {
      "cell_type": "markdown",
      "source": [
        "\n",
        "\n",
        "---\n",
        "\n"
      ],
      "metadata": {
        "id": "czY73ZjbDCmv"
      }
    }
  ]
}