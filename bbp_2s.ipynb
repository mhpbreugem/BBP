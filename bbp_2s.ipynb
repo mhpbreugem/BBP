{
  "nbformat": 4,
  "nbformat_minor": 0,
  "metadata": {
    "colab": {
      "provenance": [],
      "include_colab_link": true
    },
    "kernelspec": {
      "name": "julia-1.9",
      "display_name": "Julia 1.9.4"
    }
  },
  "cells": [
    {
      "cell_type": "markdown",
      "metadata": {
        "id": "view-in-github",
        "colab_type": "text"
      },
      "source": [
        "<a href=\"https://colab.research.google.com/github/mhpbreugem/BBP/blob/main/bbp_2s.ipynb\" target=\"_parent\"><img src=\"https://colab.research.google.com/assets/colab-badge.svg\" alt=\"Open In Colab\"/></a>"
      ]
    },
    {
      "cell_type": "code",
      "source": [
        "using Distributions, Random, NLsolve, LinearAlgebra, Printf, Optim, BenchmarkTools, KrylovKit"
      ],
      "metadata": {
        "id": "m6WaLxaNYZMz"
      },
      "execution_count": 2,
      "outputs": []
    },
    {
      "cell_type": "markdown",
      "source": [
        "2 stock code with symmetrixal distributions and zero correlation between stock payoff"
      ],
      "metadata": {
        "id": "m0L8Pk3r91ET"
      }
    },
    {
      "cell_type": "code",
      "execution_count": 3,
      "metadata": {
        "colab": {
          "base_uri": "https://localhost:8080/"
        },
        "id": "KUTXwhjJnQos",
        "outputId": "b85f1298-5491-41aa-d9b7-bc4b1b2568e6"
      },
      "outputs": [
        {
          "output_type": "stream",
          "name": "stderr",
          "text": [
            "WARNING: redefinition of constant ΞЮ. This may fail, cause incorrect answers, or produce other errors.\n"
          ]
        },
        {
          "output_type": "execute_result",
          "data": {
            "text/plain": [
              "675"
            ]
          },
          "metadata": {},
          "execution_count": 3
        }
      ],
      "source": [
        "# Chapter 0: Parameters\n",
        "\n",
        "# Economic parameters\n",
        "const β = 0.95\n",
        "const γ = 4.0\n",
        "const e0 = 5.0\n",
        "const EΠ = 1.0\n",
        "const Π0 = 1.0\n",
        "const θXbar = 1.0\n",
        "const θYbar = 1.0\n",
        "const μθX = 0.5\n",
        "const σθX = 0.2\n",
        "const μθY = 0.5\n",
        "const σθY = 0.1\n",
        "const σΠ = 0.4\n",
        "const W0 = e0\n",
        "\n",
        "const ΞЮ = [repeat([x], 1) for x in range(0.1, stop=1.0, length=10)]\n",
        "\n",
        "# Grid parameters\n",
        "const Nσπ = 3\n",
        "const NNσπ = 1\n",
        "const Nπ = 2 * Nσπ * NNσπ + 1  # number of grid points for payoff\n",
        "\n",
        "const NσΠ = 2\n",
        "const NNσΠ = 1\n",
        "const NΠ = 2 * NσΠ * NNσΠ + 1  # number of grid points for payoff\n",
        "\n",
        "const NθX = 3\n",
        "const NθY = 3\n",
        "const NσθX = 1\n",
        "const NσθY = 1\n",
        "\n",
        "# Derived midpoints\n",
        "const μπi = (Nπ + 1) ÷ 2\n",
        "const μΠi = (NΠ + 1) ÷ 2\n",
        "const μθXi = (NθX + 1) ÷ 2\n",
        "\n",
        "# Total number of states\n",
        "const NS = Nπ\n",
        "const NN = NθX *NθX * NθY * NΠ* NΠ"
      ]
    },
    {
      "cell_type": "code",
      "source": [
        "# Chapter 1: Grid Construction\n",
        "\n",
        "# Conjectured Payoffs\n",
        "const ππ = collect(range(EΠ - Nσπ*σΠ, EΠ + Nσπ*σΠ, length=Nπ))\n",
        "const πω = pdf.(Normal(EΠ, σΠ), ππ)\n",
        "const πΩ = πω ./ sum(πω)\n",
        "\n",
        "# Payoff Parameters\n",
        "const Δ1 = Π0\n",
        "const Δ2 = ππ\n",
        "\n",
        "# True Payoffs\n",
        "const ΞΠ = EΠ .+ σΠ .* range(-NσΠ, NσΠ, length=NΠ)\n",
        "const ππ_to_index = Dict(round(ππ[πi], digits=8) => πi for πi in 1:Nπ)\n",
        "const ΞΠi = [ππ_to_index[round(ΞΠ[Πi], digits=8)] for Πi in 1:NΠ]\n",
        "\n",
        "# Signals\n",
        "const S = ππ\n",
        "const ϵ = S .- ππ'\n",
        "\n",
        "@inline function ψϵω(Ю, ϵx)\n",
        "    σϵ = 1 / sqrt(Ю)\n",
        "    pdf(Normal(0.0, σϵ), ϵx)\n",
        "end\n",
        "\n",
        "function φSΩπ(Ю)\n",
        "    σϵ = 1 / sqrt(Ю[1])\n",
        "    SΩ = [pdf(Normal(π, σϵ), s) for π in ππ, s in ππ]\n",
        "    SΩnorm = SΩ ./ sum(SΩ, dims=2)\n",
        "    return SΩnorm\n",
        "end\n",
        "\n",
        "# Noise Trader Demand\n",
        "const ΞθX = μθX .+ σθX .* range(-NσθX, NσθX, length=NθX)\n",
        "const ΞθY = μθY .+ σθY .* range(-NσθY, NσθY, length=NθY)\n",
        "\n",
        "const Σθ = [σθX^2 0 0; 0 σθX^2 0; 0 0 σθY^2]\n",
        "const dist = MvNormal([μθX, μθX, μθY], Σθ)\n",
        "θXYωω(xA, xB, y) = pdf(dist, [xA, xB, y])"
      ],
      "metadata": {
        "id": "WOZOfb6dYoVq",
        "colab": {
          "base_uri": "https://localhost:8080/"
        },
        "outputId": "58cca58a-90fb-416f-c4ca-14336b329a6b"
      },
      "execution_count": 4,
      "outputs": [
        {
          "output_type": "execute_result",
          "data": {
            "text/plain": [
              "θXYωω (generic function with 1 method)"
            ]
          },
          "metadata": {},
          "execution_count": 4
        }
      ]
    },
    {
      "cell_type": "code",
      "source": [
        "θXYωω(0,0,0)"
      ],
      "metadata": {
        "colab": {
          "base_uri": "https://localhost:8080/"
        },
        "id": "peEmgrJEI54x",
        "outputId": "f589df84-43be-4d4a-af6f-407d5dc36d8b"
      },
      "execution_count": 5,
      "outputs": [
        {
          "output_type": "execute_result",
          "data": {
            "text/plain": [
              "1.1419541587249434e-7"
            ]
          },
          "metadata": {},
          "execution_count": 5
        }
      ]
    },
    {
      "cell_type": "code",
      "source": [
        "# Chapter 2: Learning\n",
        "\n",
        "# Full learning (private + public information)\n",
        "function φΞΩI(Ю, XAΣ, XBΣ, YΣ)\n",
        "    ψϵ = ψϵω.(Ю, ϵ)\n",
        "    θXY = θXYωω.(θXbar .- XAΣ, θXbar .- XBΣ, θYbar .- YΣ)\n",
        "    ΞΩI = ψϵ * ((πΩ * πΩ') .* θXY) * ψϵ'\n",
        "    ΞΩI ./= sum(ΞΩI)\n",
        "return ΞΩI\n",
        "end\n",
        "\n",
        "###WARNING INCORRECT DIMENSIONALITY.. careful about summing over SAi x SBi\n",
        "\n",
        "@btime φΞΩI([1], fill(1,(NS,NS)), fill(1,(NS,NS)), fill(1,(NS,NS)))"
      ],
      "metadata": {
        "id": "96Y9ZIJa4HB3",
        "outputId": "8cbbfed1-dc7b-49ea-9d1c-b2b1cf3a8940",
        "colab": {
          "base_uri": "https://localhost:8080/"
        }
      },
      "execution_count": 14,
      "outputs": [
        {
          "output_type": "stream",
          "name": "stdout",
          "text": [
            "  8.613 μs (206 allocations: 16.25 KiB)\n"
          ]
        },
        {
          "output_type": "execute_result",
          "data": {
            "text/plain": [
              "7×7 Matrix{Float64}:\n",
              " 0.00969255  0.0136849  0.0168313  …  0.0168313  0.0136849  0.00969255\n",
              " 0.0136849   0.0193216  0.023764      0.023764   0.0193216  0.0136849\n",
              " 0.0168313   0.023764   0.0292279     0.0292279  0.023764   0.0168313\n",
              " 0.0180333   0.0254612  0.0313152     0.0313152  0.0254612  0.0180333\n",
              " 0.0168313   0.023764   0.0292279     0.0292279  0.023764   0.0168313\n",
              " 0.0136849   0.0193216  0.023764   …  0.023764   0.0193216  0.0136849\n",
              " 0.00969255  0.0136849  0.0168313     0.0168313  0.0136849  0.00969255"
            ]
          },
          "metadata": {},
          "execution_count": 14
        }
      ]
    },
    {
      "cell_type": "code",
      "source": [
        "# Chapter 2: Learning\n",
        "\n",
        "# Full learning (private + public information)\n",
        "function φΞΩI(Ю, XAΣ, XBΣ, YΣ)\n",
        "    ψϵ = ψϵω.(Ю, ϵ)\n",
        "    θXY = θXYωω.(θXbar .- XAΣ, θXbar .- XBΣ, θYbar .- YΣ)\n",
        "    ΞΩI = ψϵ * ((πΩ * transpose(πΩ)) .* θXY) * transpose(ψϵ)\n",
        "    sum_ΞΩI = sum(ΞΩI)\n",
        "    ΞΩI .= ΞΩI ./ sum_ΞΩI\n",
        "    return ΞΩI\n",
        "end\n",
        "\n",
        "###WARNING INCORRECT DIMENSIONALITY.. careful about summing over SAi x SBi\n",
        "\n",
        "@btime φΞΩI([1], fill(1,(NS,NS)), fill(1,(NS,NS)), fill(1,(NS,NS)))"
      ],
      "metadata": {
        "colab": {
          "base_uri": "https://localhost:8080/"
        },
        "id": "QEq87LzBhf_l",
        "outputId": "fe615c29-03d1-466e-c690-18debdc551b0"
      },
      "execution_count": 17,
      "outputs": [
        {
          "output_type": "stream",
          "name": "stdout",
          "text": [
            "  8.556 μs (206 allocations: 16.25 KiB)\n"
          ]
        },
        {
          "output_type": "execute_result",
          "data": {
            "text/plain": [
              "7×7 Matrix{Float64}:\n",
              " 0.00969255  0.0136849  0.0168313  …  0.0168313  0.0136849  0.00969255\n",
              " 0.0136849   0.0193216  0.023764      0.023764   0.0193216  0.0136849\n",
              " 0.0168313   0.023764   0.0292279     0.0292279  0.023764   0.0168313\n",
              " 0.0180333   0.0254612  0.0313152     0.0313152  0.0254612  0.0180333\n",
              " 0.0168313   0.023764   0.0292279     0.0292279  0.023764   0.0168313\n",
              " 0.0136849   0.0193216  0.023764   …  0.023764   0.0193216  0.0136849\n",
              " 0.00969255  0.0136849  0.0168313     0.0168313  0.0136849  0.00969255"
            ]
          },
          "metadata": {},
          "execution_count": 17
        }
      ]
    },
    {
      "cell_type": "code",
      "source": [
        "ψϵω.([1], ϵ)*Diagonal(πΩ)"
      ],
      "metadata": {
        "id": "TkDGstkYM6O0",
        "outputId": "0e5a2a96-dc40-4d63-e68d-c2ef696c90f3",
        "colab": {
          "base_uri": "https://localhost:8080/"
        }
      },
      "execution_count": null,
      "outputs": [
        {
          "output_type": "execute_result",
          "data": {
            "text/plain": [
              "7×7 Matrix{Float64}:\n",
              " 0.00176853   0.0198886   0.0701159  …  0.0268469  0.00291581  9.9276e-5\n",
              " 0.00163256   0.0215451   0.0891347     0.0470001  0.00599034  0.000239345\n",
              " 0.00128422   0.0198886   0.0965585     0.0701159  0.0104871   0.000491717\n",
              " 0.000860836  0.015645    0.0891347     0.0891347  0.015645    0.000860836\n",
              " 0.000491717  0.0104871   0.0701159     0.0965585  0.0198886   0.00128422\n",
              " 0.000239345  0.00599034  0.0470001  …  0.0891347  0.0215451   0.00163256\n",
              " 9.9276e-5    0.00291581  0.0268469     0.0701159  0.0198886   0.00176853"
            ]
          },
          "metadata": {},
          "execution_count": 37
        }
      ]
    },
    {
      "cell_type": "code",
      "source": [
        "(πΩ * fill(1,7)')*ψϵω.([1], ϵ)"
      ],
      "metadata": {
        "id": "KDlOatNiNRSx",
        "outputId": "b780a016-e53b-43b4-9624-428ea46b6141",
        "colab": {
          "base_uri": "https://localhost:8080/"
        }
      },
      "execution_count": null,
      "outputs": [
        {
          "output_type": "execute_result",
          "data": {
            "text/plain": [
              "7×7 Matrix{Float64}:\n",
              " 0.00637648  0.00790976  0.00895464  …  0.00895464  0.00790976  0.00637648\n",
              " 0.0776814   0.0963606   0.10909        0.10909     0.0963606   0.0776814\n",
              " 0.348144    0.431858    0.488907       0.488907    0.431858    0.348144\n",
              " 0.573992    0.712014    0.806071       0.806071    0.712014    0.573992\n",
              " 0.348144    0.431858    0.488907       0.488907    0.431858    0.348144\n",
              " 0.0776814   0.0963606   0.10909     …  0.10909     0.0963606   0.0776814\n",
              " 0.00637648  0.00790976  0.00895464     0.00895464  0.00790976  0.00637648"
            ]
          },
          "metadata": {},
          "execution_count": 36
        }
      ]
    },
    {
      "cell_type": "code",
      "source": [
        "# Chapter 3: System of Equations\n",
        "const ΣW0 = W0\n",
        "\n",
        "function φSYS(Ж, Ю, Б)\n",
        "    XA = Ж[1:NS^2]\n",
        "    XB = Ж[NS^2+1:2*NS^2]\n",
        "    C1 = Ж[2*NS^2+1:3*NS^2]\n",
        "    PX, PY = Ж[3*NS^2+1:3*NS^2+2]\n",
        "\n",
        "    ΠAi = Б[1]\n",
        "    ΠBi = Б[2]\n",
        "    θXA = ΞθX[Б[3]]\n",
        "    θXB = ΞθX[Б[4]]\n",
        "    θY = ΞθY[Б[5]]\n",
        "\n",
        "    #######sum this over 2D ##########\n",
        "\n",
        "    # Conditional Expected Quantities\n",
        "    SΩπ = φSΩπ(Ю)\n",
        "    SΩ_XA_sum = sum(SΩπ .* XA', dims=2)\n",
        "    SΩ_XB_sum = sum(SΩπ .* XB', dims=2)\n",
        "    SΩ_C1_sum = sum(SΩπ .* C1', dims=2)\n",
        "\n",
        "    # Aggregate Demand\n",
        "    XΣ = SΩ_X_sum\n",
        "    YΣ = (ΣW0 .- PX .* XΣ .- SΩ_C1_sum) ./ PY\n",
        "\n",
        "    # Learning\n",
        "    Ω = φΞΩI(Ю, XΣ, YΣ)\n",
        "\n",
        "    # FOC's\n",
        "    C2_values = (W0 .- PX .* X' .- C1') ./ PY .+ X' .* Δ2\n",
        "    u_values = exp.(-γ .* C2_values)\n",
        "    FOCX_values = β .* sum(Ω .* u_values .* (-PX ./ PY .+ Δ2), dims=1)\n",
        "    FOCC1_values = exp.(-γ .* C1') + β .* sum(Ω .* u_values .* (-1.0 ./ PY), dims=1)\n",
        "\n",
        "    # Market Clearing\n",
        "    MCX = XΣ[ΞΠi[Πi]] - (θXbar - θX)\n",
        "    MCY = YΣ[ΞΠi[Πi]] - (θYbar - θY)\n",
        "\n",
        "    return vcat(FOCX_values', FOCC1_values', MCX, MCY)\n",
        "end"
      ],
      "metadata": {
        "colab": {
          "base_uri": "https://localhost:8080/"
        },
        "id": "QpwmVwnX5DIT",
        "outputId": "1d8f1e52-bceb-4e4a-e676-2000802fd5e0"
      },
      "execution_count": null,
      "outputs": [
        {
          "output_type": "execute_result",
          "data": {
            "text/plain": [
              "φSYS (generic function with 1 method)"
            ]
          },
          "metadata": {},
          "execution_count": 6
        }
      ]
    },
    {
      "cell_type": "code",
      "source": [
        "# Chapter 4: Zero-Info Starting Point (ξ)\n",
        "const W0ξ = W0\n",
        "\n",
        "# Fixed Point Zero info\n",
        "function φSYSξ(Жξ,Б)\n",
        "    PXξ, PYξ = Жξ[1:2]\n",
        "    θXA = ΞθX[Б[3]]\n",
        "    θXB = ΞθX[Б[4]]\n",
        "    θY = ΞθY[Б[5]]\n",
        "\n",
        "    # Direct solution of MC's\n",
        "    XAξ = (θXbar - θXA)\n",
        "    XBξ = (θXbar - θXB)\n",
        "    C1ξ = W0ξ - PXAξ * (θXbar - θXA) - PXBξ * (θXBbar - θXB) - PYξ *(θYbar - θY)\n",
        "####\n",
        "    # FOC's\n",
        "    C2ξ_values = (W0ξ - PXAξ * XAξ - PXBξ * XBξ - C1ξ) / PYξ  .+ XAξ .* Δ2\n",
        "    FOCXξ_values = β .* sum(πΩ .* exp.(-γ .* C2ξ_values) .* (-PXξ ./ PYξ .+ Δ2), dims=1)\n",
        "    FOCC1ξ_values = exp.(-γ .* C1ξ) .+ β .* sum(πΩ .* exp.(-γ .* C2ξ_values) .* (-1.0 ./ PYξ), dims=1)\n",
        "\n",
        "    return vcat(FOCXξ_values, FOCC1ξ_values)\n",
        "end\n",
        "\n",
        "# Starting Point of Full Code\n",
        "function φЖ0(Б)\n",
        "    θXi, θYi = Б[2], Б[3]\n",
        "    θX = ΞθX[θXi]\n",
        "    θY = ΞθY[θYi]\n",
        "    solξ = nlsolve(Жξ -> φSYSξ(Жξ, [0, θXi, θYi]), [0.6, 0.7])\n",
        "    PXξ, PYξ = solξ.zero\n",
        "    Ж = zeros(2 * NS + 2)\n",
        "    Ж[1:NS] .= θXbar - θX\n",
        "    Ж[NS+1:2*NS] .= W0ξ .- PXξ * (θXbar .- θX) .- PYξ * (θYbar .- θY)\n",
        "    Ж[2*NS+1:2*NS+2] .= [PXξ, PYξ]\n",
        "    return Ж\n",
        "end\n"
      ],
      "metadata": {
        "id": "nXN8KOCwMNWS",
        "colab": {
          "base_uri": "https://localhost:8080/"
        },
        "outputId": "1348d297-1fe4-43b8-e18d-fe32458641d1"
      },
      "execution_count": null,
      "outputs": [
        {
          "output_type": "execute_result",
          "data": {
            "text/plain": [
              "φЖ0 (generic function with 1 method)"
            ]
          },
          "metadata": {},
          "execution_count": 7
        }
      ]
    },
    {
      "cell_type": "code",
      "source": [
        "# Chapter 5: Solution over grid\n",
        "\n",
        "sol_zeros = Array{Array{Float64}, 3}(undef, NΠ, NθX, NθY)\n",
        "\n",
        "for Πi in 1:NΠ\n",
        "    for θXi in 1:NθX\n",
        "        for θYi in 1:NθY\n",
        "            Ж_ini = φЖ0([Πi, θXi, θYi])\n",
        "            for Ю_value in range(0.05, stop=1, length=6)\n",
        "                print(\"\\rProcessing: Πi = $Πi, θXi = $θXi, θYi = $θYi, Ю_value = $Ю_value\")\n",
        "                flush(stdout)\n",
        "                sol = nlsolve(Ж -> φSYS(Ж, [Ю_value], [Πi, θXi, θYi]), Ж_ini)\n",
        "                Ж_ini = sol.zero\n",
        "            end\n",
        "            sol_zeros[Πi, θXi, θYi] = Ж_ini\n",
        "        end\n",
        "    end\n",
        "end\n"
      ],
      "metadata": {
        "colab": {
          "base_uri": "https://localhost:8080/"
        },
        "id": "7_O64mPU14_R",
        "outputId": "c955a41a-75cb-4e17-a962-9993e819f2ff"
      },
      "execution_count": null,
      "outputs": [
        {
          "output_type": "stream",
          "name": "stdout",
          "text": [
            "Processing: Πi = 5, θXi = 5, θYi = 5, Ю_value = 1.0"
          ]
        }
      ]
    },
    {
      "cell_type": "markdown",
      "source": [
        "\n",
        "\n",
        "---\n",
        "\n"
      ],
      "metadata": {
        "id": "czY73ZjbDCmv"
      }
    }
  ]
}