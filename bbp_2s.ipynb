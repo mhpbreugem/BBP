{
  "nbformat": 4,
  "nbformat_minor": 0,
  "metadata": {
    "colab": {
      "provenance": [],
      "include_colab_link": true
    },
    "kernelspec": {
      "name": "julia-1.9",
      "display_name": "Julia 1.9.4"
    }
  },
  "cells": [
    {
      "cell_type": "markdown",
      "metadata": {
        "id": "view-in-github",
        "colab_type": "text"
      },
      "source": [
        "<a href=\"https://colab.research.google.com/github/mhpbreugem/BBP/blob/main/bbp_2s.ipynb\" target=\"_parent\"><img src=\"https://colab.research.google.com/assets/colab-badge.svg\" alt=\"Open In Colab\"/></a>"
      ]
    },
    {
      "cell_type": "code",
      "source": [
        "using Distributions, Random, NLsolve, LinearAlgebra, Printf, Optim, BenchmarkTools, KrylovKit"
      ],
      "metadata": {
        "id": "m6WaLxaNYZMz"
      },
      "execution_count": 151,
      "outputs": []
    },
    {
      "cell_type": "markdown",
      "source": [
        "2 stock code with symmetrixal distributions and zero correlation between stock payoff"
      ],
      "metadata": {
        "id": "m0L8Pk3r91ET"
      }
    },
    {
      "cell_type": "code",
      "execution_count": 152,
      "metadata": {
        "colab": {
          "base_uri": "https://localhost:8080/"
        },
        "id": "KUTXwhjJnQos",
        "outputId": "8a1ff5d9-f130-4fab-d887-1a49238497f4"
      },
      "outputs": [
        {
          "output_type": "stream",
          "name": "stderr",
          "text": [
            "WARNING: redefinition of constant ΞЮ. This may fail, cause incorrect answers, or produce other errors.\n"
          ]
        },
        {
          "output_type": "execute_result",
          "data": {
            "text/plain": [
              "675"
            ]
          },
          "metadata": {},
          "execution_count": 152
        }
      ],
      "source": [
        "# Chapter 0: Parameters\n",
        "\n",
        "# Economic parameters\n",
        "const β = 0.95\n",
        "const γ = 4.0\n",
        "const e0 = 5.0\n",
        "const EΠ = 1.0\n",
        "const Π0 = 1.0\n",
        "const θXbar = 1.0\n",
        "const θYbar = 1.0\n",
        "const μθX = 0.5\n",
        "const σθX = 0.2\n",
        "const μθY = 0.5\n",
        "const σθY = 0.1\n",
        "const σΠ = 0.4\n",
        "const W0 = e0\n",
        "\n",
        "const ΞЮ = [repeat([x], 1) for x in range(0.1, stop=1.0, length=10)]\n",
        "\n",
        "# Grid parameters\n",
        "const Nσπ = 3\n",
        "const NNσπ = 1\n",
        "const Nπ = 2 * Nσπ * NNσπ + 1  # number of grid points for payoff\n",
        "\n",
        "const NσΠ = 2\n",
        "const NNσΠ = 1\n",
        "const NΠ = 2 * NσΠ * NNσΠ + 1  # number of grid points for payoff\n",
        "\n",
        "const NθX = 3\n",
        "const NθY = 3\n",
        "const NσθX = 1\n",
        "const NσθY = 1\n",
        "\n",
        "# Derived midpoints\n",
        "const μπi = (Nπ + 1) ÷ 2\n",
        "const μΠi = (NΠ + 1) ÷ 2\n",
        "const μθXi = (NθX + 1) ÷ 2\n",
        "\n",
        "# Total number of states\n",
        "const NS = Nπ\n",
        "const NN = NθX *NθX * NθY * NΠ* NΠ"
      ]
    },
    {
      "cell_type": "code",
      "source": [
        "# Chapter 1: Grid Construction\n",
        "\n",
        "# Conjectured Payoffs\n",
        "const ππ = collect(range(EΠ - Nσπ*σΠ, EΠ + Nσπ*σΠ, length=Nπ))\n",
        "const πω = pdf.(Normal(EΠ, σΠ), ππ)\n",
        "const πΩ = πω ./ sum(πω)\n",
        "\n",
        "# Payoff Parameters\n",
        "const Δ1 = Π0\n",
        "const Δ2 = ππ\n",
        "\n",
        "# True Payoffs\n",
        "const ΞΠ = EΠ .+ σΠ .* range(-NσΠ, NσΠ, length=NΠ)\n",
        "const ππ_to_index = Dict(round(ππ[πi], digits=8) => πi for πi in 1:Nπ)\n",
        "const ΞΠi = [ππ_to_index[round(ΞΠ[Πi], digits=8)] for Πi in 1:NΠ]\n",
        "\n",
        "# Signals\n",
        "const S = ππ\n",
        "const ϵ = S .- ππ'\n",
        "\n",
        "@inline function ψϵω(Ю, ϵx)\n",
        "    σϵ = 1 / sqrt(Ю)\n",
        "    pdf(Normal(0.0, σϵ), ϵx)\n",
        "end\n",
        "\n",
        "function φSΩπ(Ю)\n",
        "    σϵ = 1 / sqrt(Ю[1])\n",
        "    SΩ = [pdf(Normal(π, σϵ), s) for π in ππ, s in S]\n",
        "    SΩnorm = SΩ ./ sum(SΩ, dims=2)\n",
        "    return SΩnorm\n",
        "end\n",
        "\n",
        "# Noise Trader Demand\n",
        "const ΞθX = μθX .+ σθX .* range(-NσθX, NσθX, length=NθX)\n",
        "const ΞθY = μθY .+ σθY .* range(-NσθY, NσθY, length=NθY)\n",
        "\n",
        "const Σθ = [σθX^2 0 0; 0 σθX^2 0; 0 0 σθY^2]\n",
        "const dist = MvNormal([μθX, μθX, μθY], Σθ)\n",
        "θXYωω(xA, xB, y) = pdf(dist, [xA, xB, y])"
      ],
      "metadata": {
        "id": "WOZOfb6dYoVq",
        "colab": {
          "base_uri": "https://localhost:8080/"
        },
        "outputId": "87a51e4f-eacd-4562-fc97-f68d734e42b8"
      },
      "execution_count": 153,
      "outputs": [
        {
          "output_type": "stream",
          "name": "stderr",
          "text": [
            "WARNING: redefinition of constant ππ. This may fail, cause incorrect answers, or produce other errors.\n",
            "WARNING: redefinition of constant πω. This may fail, cause incorrect answers, or produce other errors.\n",
            "WARNING: redefinition of constant πΩ. This may fail, cause incorrect answers, or produce other errors.\n",
            "WARNING: redefinition of constant Δ2. This may fail, cause incorrect answers, or produce other errors.\n",
            "WARNING: redefinition of constant ππ_to_index. This may fail, cause incorrect answers, or produce other errors.\n",
            "WARNING: redefinition of constant ΞΠi. This may fail, cause incorrect answers, or produce other errors.\n",
            "WARNING: redefinition of constant S. This may fail, cause incorrect answers, or produce other errors.\n",
            "WARNING: redefinition of constant ϵ. This may fail, cause incorrect answers, or produce other errors.\n",
            "WARNING: redefinition of constant Σθ. This may fail, cause incorrect answers, or produce other errors.\n",
            "WARNING: redefinition of constant dist. This may fail, cause incorrect answers, or produce other errors.\n"
          ]
        },
        {
          "output_type": "execute_result",
          "data": {
            "text/plain": [
              "θXYωω (generic function with 1 method)"
            ]
          },
          "metadata": {},
          "execution_count": 153
        }
      ]
    },
    {
      "cell_type": "code",
      "source": [
        "# Chapter 2: Learning\n",
        "\n",
        "function φΞΩI(Ю, XAΣ, XBΣ, YΣ)\n",
        "    ψϵ = ψϵω.(Ю, ϵ)                             # NS × Nπ\n",
        "    θXY = θXYωω.(θXbar .- XAΣ, θXbar .- XBΣ, θYbar .- YΣ)  # Nπ × Nπ\n",
        "\n",
        "    ψπ = ψϵ .* transpose(πΩ)                     # NS × Nπ\n",
        "    ψπ_T = transpose(ψπ)                        # Nπ × NS\n",
        "\n",
        "    A = reshape(ψπ_T, Nπ, 1, NS, 1)             # Nπ × 1 × NS × 1\n",
        "    B = reshape(ψπ_T, 1, Nπ, 1, NS)             # 1 × Nπ × 1 × NS\n",
        "    Θ = reshape(θXY, Nπ, Nπ, 1, 1)              # Nπ × Nπ × 1 × 1\n",
        "\n",
        "    ΞΩI = A .* B .* Θ                           # Nπ × Nπ × NS × NS\n",
        "    ΞΩI ./= sum(ΞΩI, dims=(1, 2))               # Normalize each (s1, s2) slice\n",
        "\n",
        "    return ΞΩI\n",
        "end"
      ],
      "metadata": {
        "colab": {
          "base_uri": "https://localhost:8080/"
        },
        "id": "LHvSeiWw1ZqQ",
        "outputId": "35b297a5-145b-45c9-97b4-f20d66957f7b"
      },
      "execution_count": 158,
      "outputs": [
        {
          "output_type": "execute_result",
          "data": {
            "text/plain": [
              "φΞΩI (generic function with 1 method)"
            ]
          },
          "metadata": {},
          "execution_count": 158
        }
      ]
    },
    {
      "cell_type": "code",
      "source": [
        "# Chapter 3: System of Equations\n",
        "\n",
        "function φSYS(Ж, Ю, Б)\n",
        "    # 1. Unpack inputs\n",
        "    XA = reshape(Ж[1:NS^2], NS, NS)\n",
        "    XB = reshape(Ж[NS^2+1:2NS^2], NS, NS)\n",
        "    C1 = reshape(Ж[2NS^2+1:3NS^2], NS, NS)\n",
        "    PXA, PXB, PY = Ж[3NS^2+1:3NS^2+3]\n",
        "    ΠAi, ΠBi = Б[1], Б[2]\n",
        "    θXA, θXB, θY = ΞθX[Б[3]], ΞθX[Б[4]], ΞθY[Б[5]]\n",
        "\n",
        "    # 2. Aggregates\n",
        "    SΩπ = φSΩπ(Ю)\n",
        "    XAΣ = SΩπ * XA * transpose(SΩπ)\n",
        "    XBΣ = SΩπ * XB * transpose(SΩπ)\n",
        "    C1Σ = SΩπ * C1 * transpose(SΩπ)\n",
        "    YΣ = (ΣW0 .- PXA .* XAΣ .- PXB .* XBΣ .- C1Σ) ./ PY\n",
        "\n",
        "    # 3. Learning tensor Ω\n",
        "    Ω = φΞΩI(Ю, XAΣ, XBΣ, YΣ)\n",
        "\n",
        "    # 4. Final consumption c2(π₁, π₂, s₁, s₂)\n",
        "    Cbase = (W0 .- PXA .* XA .- PXB .* XB .- C1) ./ PY\n",
        "    c2 = reshape(Cbase, 1, 1, NS, NS) .+\n",
        "         reshape(XA, 1, 1, NS, NS) .* reshape(Δ2, Nπ, 1, 1, 1) .+\n",
        "         reshape(XB, 1, 1, NS, NS) .* reshape(Δ2, 1, Nπ, 1, 1)\n",
        "\n",
        "    # 5. Utility weights and parameter vectors\n",
        "    Z = exp.(-γ .* c2)\n",
        "    KA = (-PXA / PY) .+ Δ2\n",
        "    KB = (-PXB / PY) .+ Δ2\n",
        "    KA_flat = repeat(KA, Nπ)\n",
        "    KB_flat = repeat(KB, inner=Nπ)\n",
        "\n",
        "    # 6. Flattened matrix contractions\n",
        "    ZO = Z .* Ω   # shape: Nπ × Nπ × NS × NS\n",
        "    KA_tensor = reshape(KA, Nπ, 1, 1, 1)\n",
        "    KB_tensor = reshape(KB, 1, Nπ, 1, 1)\n",
        "\n",
        "    FOCXA = β .* vec(sum(ZO .* KA_tensor, dims=(1,2)))  # NS² vector\n",
        "    FOCXB = β .* vec(sum(ZO .* KB_tensor, dims=(1,2)))  # NS² vector\n",
        "    FOCC1 = exp.(-γ .* C1)[:] .+ β .* vec(sum(ZO, dims=(1,2))) .* (-1 / PY) # NS² vector\n",
        "\n",
        "    # 7. Market clearing\n",
        "    MCXA = XAΣ[ΞΠi[ΠAi], ΞΠi[ΠBi]] - (θXbar - θXA)\n",
        "    MCXB = XBΣ[ΞΠi[ΠAi], ΞΠi[ΠBi]] - (θXbar - θXB)\n",
        "    MCY  = YΣ[ΞΠi[ΠAi], ΞΠi[ΠBi]] - (θYbar - θY)\n",
        "\n",
        "    # 8. Return full residual system\n",
        "    #return XAΣ\n",
        "    return vcat(FOCXA, FOCXB, FOCC1, MCXA, MCXB, MCY)\n",
        "end\n"
      ],
      "metadata": {
        "colab": {
          "base_uri": "https://localhost:8080/"
        },
        "id": "fSld_BMN4edA",
        "outputId": "2929b4cd-4fdc-4da2-a650-c5acc56f0633"
      },
      "execution_count": 271,
      "outputs": [
        {
          "output_type": "execute_result",
          "data": {
            "text/plain": [
              "φSYS (generic function with 1 method)"
            ]
          },
          "metadata": {},
          "execution_count": 271
        }
      ]
    },
    {
      "cell_type": "code",
      "source": [
        "# Chapter 4: Zero-Info Reference\n",
        "const W0ξ = W0\n",
        "\n",
        "function φSYSξ(Жξ, Б)\n",
        "    # 1. Extract prices\n",
        "    PXAξ, PXBξ, PYξ = Жξ[1:3]\n",
        "\n",
        "    # 2. Retrieve θ-shocks\n",
        "    θXA = ΞθX[Б[3]]\n",
        "    θXB = ΞθX[Б[4]]\n",
        "    θY  = ΞθY[Б[5]]\n",
        "\n",
        "    # 3. Direct market clearing values (XAξ, XBξ are scalars)\n",
        "    XAξ = θXbar - θXA\n",
        "    XBξ = θXbar - θXB\n",
        "    Yξ = θYbar - θY\n",
        "\n",
        "    # 4. Residual consumption (scalar)\n",
        "    C1ξ = W0ξ - PXAξ * XAξ - PXBξ * XBξ - PYξ * Yξ\n",
        "\n",
        "    # 5. Construct final consumption grid (Nπ × Nπ)\n",
        "    C2ξ = Yξ .+ XAξ .* reshape(Δ2, Nπ, 1) .+ XBξ .* reshape(Δ2, 1, Nπ)\n",
        "\n",
        "    # 6. Utility values on the grid\n",
        "    U = exp.(-γ .* C2ξ)  # Nπ × Nπ\n",
        "\n",
        "    # 7. Joint probability weights\n",
        "    ππ = πΩ * transpose(πΩ)  # outer product — Nπ × Nπ\n",
        "\n",
        "    # 8. FOCs (expectation over ππ)\n",
        "    FOCXA = β * sum(ππ .* U .* ((-PXAξ / PYξ) .+ reshape(Δ2, Nπ, 1)))\n",
        "    FOCXB = β * sum(ππ .* U .* ((-PXBξ / PYξ) .+ reshape(Δ2, 1, Nπ)))\n",
        "    FOCC1 = exp(-γ * C1ξ) + β * sum(ππ .* U) * (-1.0 / PYξ)\n",
        "\n",
        "    return vcat(FOCXA, FOCXB, FOCC1)\n",
        "end"
      ],
      "metadata": {
        "colab": {
          "base_uri": "https://localhost:8080/"
        },
        "id": "pp8u7508JTTm",
        "outputId": "aa0e1f1c-517f-442a-80a7-75b95eb69c60"
      },
      "execution_count": 235,
      "outputs": [
        {
          "output_type": "execute_result",
          "data": {
            "text/plain": [
              "φSYSξ (generic function with 1 method)"
            ]
          },
          "metadata": {},
          "execution_count": 235
        }
      ]
    },
    {
      "cell_type": "code",
      "source": [
        "# Chapter 5: Starting Point\n",
        "\n",
        "function φЖ0(Б)\n",
        "    # 1. Extract shocks\n",
        "    ΠAi, ΠBi = Б[1], Б[2]\n",
        "    θXA = ΞθX[Б[3]]\n",
        "    θXB = ΞθX[Б[4]]\n",
        "    θY  = ΞθY[Б[5]]\n",
        "\n",
        "    # 2. Solve zero-info fixed point\n",
        "    solξ = nlsolve(Жξ -> φSYSξ(Жξ, Б), [0.6, 0.6, 0.7])\n",
        "    PXAξ, PXBξ, PYξ = solξ.zero\n",
        "\n",
        "    # 3. Recover XAξ, XBξ, Yξ\n",
        "    XAξ = θXbar - θXA\n",
        "    XBξ = θXbar - θXB\n",
        "    Yξ  = θYbar - θY\n",
        "\n",
        "    # 4. Compute constant C1ξ from residual budget\n",
        "    C1ξ = W0ξ - PXAξ * XAξ - PXBξ * XBξ - PYξ * Yξ\n",
        "\n",
        "    # 5. Fill full Ж vector\n",
        "    Ж = zeros(3NS^2 + 3)\n",
        "    Ж[1:NS^2]               .= XAξ\n",
        "    Ж[NS^2+1:2NS^2]         .= XBξ\n",
        "    Ж[2NS^2+1:3NS^2]        .= C1ξ\n",
        "    Ж[3NS^2+1:3NS^2+3]      .= [PXAξ, PXBξ, PYξ]\n",
        "\n",
        "    Ж = Ж.+ 1e-3 .* randn(length(Ж))\n",
        "    return Ж\n",
        "end"
      ],
      "metadata": {
        "colab": {
          "base_uri": "https://localhost:8080/"
        },
        "id": "7pT768y6Ps3O",
        "outputId": "a5c5a2cd-0915-403b-ad71-e86d0975e524"
      },
      "execution_count": 239,
      "outputs": [
        {
          "output_type": "execute_result",
          "data": {
            "text/plain": [
              "φЖ0 (generic function with 1 method)"
            ]
          },
          "metadata": {},
          "execution_count": 239
        }
      ]
    },
    {
      "cell_type": "code",
      "source": [
        "# Chapter 6: Solution over extended 5D grid\n",
        "\n",
        "sol_zeros = Array{Vector{Float64}, 5}(undef, NΠ, NΠ, NθX, NθX, NθY)\n",
        "\n",
        "for ΠAi in 1:NΠ\n",
        "    for ΠBi in 1:NΠ\n",
        "        for θXAi in 1:NθX\n",
        "            for θXBi in 1:NθX\n",
        "                for θYi in 1:NθY\n",
        "\n",
        "                    # 1. Pack parameter bundle for this grid point\n",
        "                    Б = [ΠAi, ΠBi, θXAi, θXBi, θYi]\n",
        "\n",
        "                    # 2. Generate starting point using zero-info fixed point\n",
        "                    Ж_ini = φЖ0(Б)\n",
        "\n",
        "                    # 3. Iterate over Ю values for continuation (annealing)\n",
        "                    for Ю_value in range(0.1, stop=1, length=6)\n",
        "                        print(\"\\rΠAi=$ΠAi ΠBi=$ΠBi θXAi=$θXAi θXBi=$θXBi θYi=$θYi Ю=$Ю_value\")\n",
        "                        flush(stdout)\n",
        "\n",
        "                        sol = nlsolve(Ж -> φSYS(Ж, [Ю_value], Б), Ж_ini)\n",
        "\n",
        "                        if sol.f_converged\n",
        "                            Ж_ini = sol.zero\n",
        "                        else\n",
        "                            @warn \"No convergence at ΠAi=$ΠAi ΠBi=$ΠBi θXAi=$θXAi θXBi=$θXBi θYi=$θYi Ю=$Ю_value\"\n",
        "                            break\n",
        "                        end\n",
        "                    end\n",
        "\n",
        "                    # 4. Store result\n",
        "                    sol_zeros[ΠAi, ΠBi, θXAi, θXBi, θYi] = Ж_ini\n",
        "                end\n",
        "            end\n",
        "        end\n",
        "    end\n",
        "end\n"
      ],
      "metadata": {
        "colab": {
          "base_uri": "https://localhost:8080/"
        },
        "id": "7_O64mPU14_R",
        "outputId": "1776b61a-e96c-4a93-dfa9-ac8b5fba6edf"
      },
      "execution_count": null,
      "outputs": [
        {
          "output_type": "stream",
          "name": "stdout",
          "text": [
            "ΠAi=1 ΠBi=3 θXAi=3 θXBi=2 θYi=2 Ю=0.46"
          ]
        }
      ]
    },
    {
      "cell_type": "code",
      "source": [
        "TT0 = [\n",
        "    0.671248,0.671248,0.671248,0.671248,0.671248,0.671248,0.671248,\n",
        "    0.681248,0.681248,0.681248,0.681248,0.681248,0.681248,0.681248,\n",
        "    0.691248,0.691248,0.691248,0.691248,0.691248,0.691248,0.691248,\n",
        "    0.701248,0.701248,0.701248,0.701248,0.701248,0.701248,0.701248,\n",
        "    0.711248,0.711248,0.711248,0.711248,0.711248,0.711248,0.711248,\n",
        "    0.721248,0.721248,0.721248,0.721248,0.721248,0.721248,0.721248,\n",
        "    0.731248,0.731248,0.731248,0.731248,0.731248,0.731248,0.731248,\n",
        "    0.671248,0.681248,0.691248,0.701248,0.711248,0.721248,0.731248,\n",
        "    0.671248,0.681248,0.691248,0.701248,0.711248,0.721248,0.731248,\n",
        "    0.671248,0.681248,0.691248,0.701248,0.711248,0.721248,0.731248,\n",
        "    0.671248,0.681248,0.691248,0.701248,0.711248,0.721248,0.731248,\n",
        "    0.671248,0.681248,0.691248,0.701248,0.711248,0.721248,0.731248,\n",
        "    0.671248,0.681248,0.691248,0.701248,0.711248,0.721248,0.731248,\n",
        "    0.671248,0.681248,0.691248,0.701248,0.711248,0.721248,0.731248,\n",
        "    1.88941,1.8923,1.89524,1.89821,1.90123,1.9043,1.9074,\n",
        "    1.8923,1.89519,1.89813,1.9011,1.90412,1.90719,1.91029,\n",
        "    1.89524,1.89813,1.90106,1.90404,1.90706,1.91012,1.91323,\n",
        "    1.89821,1.9011,1.90404,1.90701,1.91004,1.9131,1.91621,\n",
        "    1.90123,1.90412,1.90706,1.91004,1.91306,1.91612,1.91923,\n",
        "    1.9043,1.90719,1.91012,1.9131,1.91612,1.91918,1.92229,\n",
        "    1.9074,1.91029,1.91323,1.91621,1.91923,1.92229,1.9254,\n",
        "    0.699378,0.699378,0.699378,0.699378,0.699378,0.699378,0.699378,\n",
        "    0.7,0.7,0.7,0.7,0.7,0.7,0.7,\n",
        "    0.700624,0.700624,0.700624,0.700624,0.700624,0.700624,0.700624,\n",
        "    0.701248,0.701248,0.701248,0.701248,0.701248,0.701248,0.701248,\n",
        "    0.701873,0.701873,0.701873,0.701873,0.701873,0.701873,0.701873,\n",
        "    0.702497,0.702497,0.702497,0.702497,0.702497,0.702497,0.702497,\n",
        "    0.703119,0.703119,0.703119,0.703119,0.703119,0.703119,0.703119,\n",
        "    0.699378,0.7,0.700624,0.701248,0.701873,0.702497,0.703119,\n",
        "    0.699378,0.7,0.700624,0.701248,0.701873,0.702497,0.703119,\n",
        "    0.699378,0.7,0.700624,0.701248,0.701873,0.702497,0.703119,\n",
        "    0.699378,0.7,0.700624,0.701248,0.701873,0.702497,0.703119,\n",
        "    0.699378,0.7,0.700624,0.701248,0.701873,0.702497,0.703119,\n",
        "    0.699378,0.7,0.700624,0.701248,0.701873,0.702497,0.703119,\n",
        "    0.699378,0.7,0.700624,0.701248,0.701873,0.702497,0.703119,\n",
        "    0.600872,0.600436,0.599999,0.599561,0.599124,0.598687,0.598251,\n",
        "    0.600436,0.6,0.599563,0.599125,0.598688,0.598251,0.597815,\n",
        "    0.599999,0.599563,0.599126,0.598688,0.598251,0.597814,0.597378,\n",
        "    0.599561,0.599125,0.598688,0.598251,0.597813,0.597376,0.59694,\n",
        "    0.599124,0.598688,0.598251,0.597813,0.597376,0.596939,0.596503,\n",
        "    0.598687,0.598251,0.597814,0.597376,0.596939,0.596502,0.596065,\n",
        "    0.598251,0.597815,0.597378,0.59694,0.596503,0.596065,0.595629,\n",
        "    1.25715,1.25715,2.22258\n",
        "]\n",
        "\n",
        "TT1 = vcat(TT0[1:NS*NS*3], TT0[end-2:end])"
      ],
      "metadata": {
        "colab": {
          "base_uri": "https://localhost:8080/"
        },
        "id": "S9b5xYf0TGLV",
        "outputId": "113a29c9-63c8-437a-c9f0-5e952be79edf"
      },
      "execution_count": 262,
      "outputs": [
        {
          "output_type": "execute_result",
          "data": {
            "text/plain": [
              "150-element Vector{Float64}:\n",
              " 0.671248\n",
              " 0.671248\n",
              " 0.671248\n",
              " 0.671248\n",
              " 0.671248\n",
              " 0.671248\n",
              " 0.671248\n",
              " 0.681248\n",
              " 0.681248\n",
              " 0.681248\n",
              " 0.681248\n",
              " 0.681248\n",
              " 0.681248\n",
              " ⋮\n",
              " 1.91918\n",
              " 1.92229\n",
              " 1.9074\n",
              " 1.91029\n",
              " 1.91323\n",
              " 1.91621\n",
              " 1.91923\n",
              " 1.92229\n",
              " 1.9254\n",
              " 1.25715\n",
              " 1.25715\n",
              " 2.22258"
            ]
          },
          "metadata": {},
          "execution_count": 262
        }
      ]
    },
    {
      "cell_type": "code",
      "source": [
        "φSYS(TT1, [0.1], [1,1,1,1,1])"
      ],
      "metadata": {
        "colab": {
          "base_uri": "https://localhost:8080/"
        },
        "id": "7sdD86CjU2a_",
        "outputId": "0f10a7ab-b150-42d8-fb53-1295506d1cfe"
      },
      "execution_count": 272,
      "outputs": [
        {
          "output_type": "execute_result",
          "data": {
            "text/plain": [
              "150-element Vector{Float64}:\n",
              "  4.670349880496808e-10\n",
              "  6.902376024624273e-6\n",
              "  1.3664605734057329e-5\n",
              "  2.0294704396450164e-5\n",
              "  2.6800946876202118e-5\n",
              "  3.3191107094238704e-5\n",
              "  3.947129976504999e-5\n",
              " -6.889611558000143e-6\n",
              "  4.563570284866924e-10\n",
              "  6.743478907329378e-6\n",
              "  1.3347407574487724e-5\n",
              "  1.982040874849658e-5\n",
              "  2.6170382784145244e-5\n",
              "  ⋮\n",
              "  1.4564871339268863e-8\n",
              " -1.0320901024530454e-7\n",
              " -4.205654817908031e-6\n",
              " -2.876107011546181e-6\n",
              " -1.827070287962931e-6\n",
              " -1.021104337206927e-6\n",
              " -4.4933893871750095e-7\n",
              " -1.0320901024492507e-7\n",
              " -6.653387968065354e-10\n",
              " -4.6098090111801326e-7\n",
              " -4.6098090100699096e-7\n",
              "  3.5477013272666724e-6"
            ]
          },
          "metadata": {},
          "execution_count": 272
        }
      ]
    },
    {
      "cell_type": "markdown",
      "source": [
        "\n",
        "\n",
        "---\n",
        "\n"
      ],
      "metadata": {
        "id": "czY73ZjbDCmv"
      }
    }
  ]
}