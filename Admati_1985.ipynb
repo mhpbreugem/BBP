{
  "nbformat": 4,
  "nbformat_minor": 0,
  "metadata": {
    "colab": {
      "provenance": [],
      "authorship_tag": "ABX9TyNvP95m2KhUitdpta2gar7C",
      "include_colab_link": true
    },
    "kernelspec": {
      "name": "julia-1.9",
      "display_name": "Julia 1.9.4"
    }
  },
  "cells": [
    {
      "cell_type": "markdown",
      "metadata": {
        "id": "view-in-github",
        "colab_type": "text"
      },
      "source": [
        "<a href=\"https://colab.research.google.com/github/mhpbreugem/BBP/blob/main/Admati_1985.ipynb\" target=\"_parent\"><img src=\"https://colab.research.google.com/assets/colab-badge.svg\" alt=\"Open In Colab\"/></a>"
      ]
    },
    {
      "cell_type": "code",
      "source": [
        "using LinearAlgebra, BenchmarkTools, Symbolics, NLsolve"
      ],
      "metadata": {
        "id": "pbFHaCF9hnwb"
      },
      "execution_count": 50,
      "outputs": []
    },
    {
      "cell_type": "code",
      "source": [
        "function φSYS(Ψ,ΣF,rf,γ)\n",
        "\n",
        "    ## Notes\n",
        "\n",
        "        ## TODO: Generalize: All RV's have zero mean.\n",
        "        ## Z is random supply not demand\n",
        "\n",
        "    # 00. Extract Variables and Define Random Variables\n",
        "\n",
        "        a11,a12,a13,a14,a21,a22,a23,a24,b11,b12,b13,b14,b21,b22,b23,b24,c11,c12,c13,c14,c21,c22,c23,c24,d11,d12,d13,d14,d21,d22,d23,d24,ΣΠ11,ΣΠ12,ΣΠ21,ΣΠ22 = Ψ\n",
        "\n",
        "        # F = [Π1, Π2, Z1, Z2, ε1i, ε2i]\n",
        "\n",
        "    # 0. Define Private Information\n",
        "\n",
        "        S_PRIVATE1 = [1,0,0,0,1,0]     # Signal Y1: F.S_PRIVATE1\n",
        "        S_PRIVATE2 = [0,1,0,0,0,1]     # Signal Y1: F.S_PRIVATE1\n",
        "\n",
        "    # 1. Conjecture Price Function (Public Information)\n",
        "\n",
        "        ## P1 = a11*Π1 + a12*Π2 + a13*Z1 + a14*Z2\n",
        "        ## P2 = a21*Π1 + a22*Π2 + a23*Z1 + a24*Z2\n",
        "\n",
        "        S_PUBLIC1 = [a11, a12, a13, a14, 0, 0]          # Signal P1: F.S_PUBLIC\n",
        "        S_PUBLIC2 = [a21, a22, a23, a24, 0, 0]          # Signal P1: F.S_PUBLIC\n",
        "\n",
        "    # 2. Learning\n",
        "\n",
        "        ## E[Π1|S] = b11*Y1 + b12*Y2 + b13*P1 + b14*P2\n",
        "        ## E[Π2|S] = b21*Y1 + b22*Y2 + b23*P1 + b24*P2\n",
        "\n",
        "        S = hcat(S_PRIVATE1, S_PRIVATE2, S_PUBLIC1, S_PUBLIC2)\n",
        "\n",
        "        ΣYY = transpose(S) * ΣF * S                # 4x4\n",
        "        ΣFY = ΣF * S                               # 6×4\n",
        "        B = ΣFY * inv(ΣYY)                         # 6×4\n",
        "        Σ = ΣF - ΣFY * inv(ΣYY) * transpose(ΣFY)   # 6×6\n",
        "\n",
        "        EQ_LEARN = [b11 - B[1,1], b12 - B[1,2], b13 - B[1,3], b14 - B[1,4], b21 - B[2,1], b22 - B[2,2], b23 - B[2,3], b24 - B[2,4], ΣΠ11 - Σ[1,1], ΣΠ12 - Σ[1,2], ΣΠ21 - Σ[2,1], ΣΠ22 - Σ[2,2]]\n",
        "\n",
        "    # 3. Individual Demand (CARA)\n",
        "\n",
        "        b1 = [b11 b12;b21 b22]\n",
        "        b2 = [b13 b14;b23 b24]\n",
        "        ΣΠ = [ΣΠ11 ΣΠ12;ΣΠ21 ΣΠ22]\n",
        "\n",
        "        ## Xi = {ΣΠ⁻¹ . [E[Π|S] - P*(1+rf)]} / γ\n",
        "        ##    = ΣΠ⁻¹ . {b1*Y + [b2 - I*(1+rf)]*P} / γ\n",
        "        ##    = c1*Y1 + c2*P\n",
        "\n",
        "        C1 = inv(ΣΠ) * b1 / γ\n",
        "        C2 = inv(ΣΠ) * (b2 - (1+rf)*I(2)) / γ\n",
        "\n",
        "        EQ_DEMAND = [c11 - C1[1,1], c12 - C1[1,2],c21 - C1[2,1], c22 - C1[2,2], c13 - C2[1,1], c14 - C2[1,2],c23 - C2[2,1], c24 - C2[2,2]]\n",
        "\n",
        "    # 4. Demand Aggregation\n",
        "\n",
        "        ## Due to i.i.d. εi, μi aggregates to Π\n",
        "        ## Z = d1*Π + d2*P\n",
        "\n",
        "        EQ_AGGREGATION = [d11 - c11, d12 - c12, d13 - c13, d14 - c14, d21 - c21, d22 - c22, d23 - c23, d24 - c24]\n",
        "\n",
        "    # 5. Market Clearing\n",
        "\n",
        "        ## P = (-d1/d2)*Π + (1/d2)*Z\n",
        "        ##   = a1*Π + a2*Z\n",
        "\n",
        "        D1 = [d11 d12;d21 d22]\n",
        "        D2 = [d13 d14;d23 d24]\n",
        "\n",
        "        A1 = -inv(D2)*D1\n",
        "        A2 = inv(D2)\n",
        "\n",
        "        EQ_MC = [a11 - A1[1,1], a12 - A1[1,2],a21 - A1[2,1], a22 - A1[2,2], a13 - A2[1,1], a14 - A2[1,2],a23 - A2[2,1], a24 - A2[2,2]]\n",
        "\n",
        "    return vcat(EQ_LEARN, EQ_DEMAND, EQ_AGGREGATION,EQ_MC)\n",
        "\n",
        "end"
      ],
      "metadata": {
        "colab": {
          "base_uri": "https://localhost:8080/"
        },
        "id": "lPKgmgDkFqvy",
        "outputId": "6bc155d5-0c37-45d6-bd2e-c6ac2034e300"
      },
      "execution_count": 75,
      "outputs": [
        {
          "output_type": "execute_result",
          "data": {
            "text/plain": [
              "φSYS (generic function with 1 method)"
            ]
          },
          "metadata": {},
          "execution_count": 75
        }
      ]
    },
    {
      "cell_type": "code",
      "source": [
        "#φSYS(0.5*rand(36),diagm([1,1,1,1,1,1]),0,1)"
      ],
      "metadata": {
        "id": "Z5Ixhuoj44Oy"
      },
      "execution_count": 77,
      "outputs": []
    },
    {
      "cell_type": "code",
      "source": [
        "x0_2stocks = [\n",
        "    # a11 a12 a13 a14  (Price P1 as function of Π1, Π2, Z1, Z2)\n",
        "     0.6667, 0, -0.6667, 0.0,\n",
        "    # a21 a22 a23 a24  (Price P2 as function of Π1, Π2, Z1, Z2)\n",
        "    0,  0.6667, 0, -0.6667,\n",
        "\n",
        "    # b11 b12 b13 b14  (Π1 as function of Y1, Y2, P1, P2)\n",
        "     0.5,  0.0, 0.0, 0.5,\n",
        "    # b21 b22 b23 b24  (Π2 as function of Y1, Y2, P1, P2)\n",
        "     -1.5,  0.0, 0.0, -1.5,\n",
        "\n",
        "    # c11 c12 c13 c14  (X1 = c11*Y1 + c12*Y2 + c13*P1 + c14*P2)\n",
        "     1.0,  0.0,  0.5,  0.0,\n",
        "    # c21 c22 c23 c24  (X2 = ...)\n",
        "     0.0,  1.0,  0.0,  0.5,\n",
        "\n",
        "    # d11 d12 d13 d14  (Z1 = d11*Π1 + d12*Π2 + d13*P1 + d14*P2)\n",
        "     1.0,  0.0,  0.5,  0.0,\n",
        "    # d21 d22 d23 d24  (Z2 = ...)\n",
        "     0.0,  1.0,  0.0,  0.5,\n",
        "\n",
        "    # ΣΠ11 ΣΠ12 ΣΠ21 ΣΠ22 (Covariance of Π)\n",
        "     0.3333, 0.0,\n",
        "     0.0,    0.3333\n",
        "]\n"
      ],
      "metadata": {
        "colab": {
          "base_uri": "https://localhost:8080/"
        },
        "id": "czVFg7f1M_ln",
        "outputId": "37810924-66d5-4e5c-8ad6-6ea38d51c500"
      },
      "execution_count": 65,
      "outputs": [
        {
          "output_type": "execute_result",
          "data": {
            "text/plain": [
              "36-element Vector{Float64}:\n",
              "  0.6667\n",
              "  0.0\n",
              " -0.6667\n",
              "  0.0\n",
              "  0.0\n",
              "  0.6667\n",
              "  0.0\n",
              " -0.6667\n",
              "  0.5\n",
              "  0.0\n",
              "  0.0\n",
              "  0.5\n",
              " -1.5\n",
              "  ⋮\n",
              "  1.0\n",
              "  0.0\n",
              "  0.5\n",
              "  0.0\n",
              "  0.0\n",
              "  1.0\n",
              "  0.0\n",
              "  0.5\n",
              "  0.3333\n",
              "  0.0\n",
              "  0.0\n",
              "  0.3333"
            ]
          },
          "metadata": {},
          "execution_count": 65
        }
      ]
    },
    {
      "cell_type": "code",
      "source": [
        "x0 = 0.5*rand(36)\n",
        "sol = nlsolve(x -> φSYS(x, diagm([1,1,1,1,1,1]),0,1),x0_2stocks )"
      ],
      "metadata": {
        "id": "7B6SKH0IHtEg",
        "colab": {
          "base_uri": "https://localhost:8080/"
        },
        "outputId": "f7bc632a-8e42-49ae-8b63-b29aea7440e0"
      },
      "execution_count": 80,
      "outputs": [
        {
          "output_type": "execute_result",
          "data": {
            "text/plain": [
              "Results of Nonlinear Solver Algorithm\n",
              " * Algorithm: Trust-region with dogleg and autoscaling\n",
              " * Starting Point: [0.6667, 0.0, -0.6667, 0.0, 0.0, 0.6667, 0.0, -0.6667, 0.5, 0.0, 0.0, 0.5, -1.5, 0.0, 0.0, -1.5, 1.0, 0.0, 0.5, 0.0, 0.0, 1.0, 0.0, 0.5, 1.0, 0.0, 0.5, 0.0, 0.0, 1.0, 0.0, 0.5, 0.3333, 0.0, 0.0, 0.3333]\n",
              " * Zero: [-1845.2075280961112, 0.825716932073008, 2174.51987547597, -5.078419691405735, -380.3446719522932, -116.1634732109364, 448.7107191148763, 134.1306174522513, 0.47257897445266034, 0.0006787017769875838, 0.529300020393543, -0.00011943684230187363, -0.0009226342788937971, 0.474448660047952, -0.00044034469121712104, 0.5334322983628119, 0.7785642659706355, 0.0012639349821348467, -0.35265143668233334, -2.2017732226470957e-5, -0.00234171355809976, 0.7879269088008185, -0.0009757967539266928, -0.34798470504284956, 0.8485510269931732, 0.001630149203790004, 0.0004563058722294493, 1.727783238060185e-5, -0.0030530578694831466, 0.8605990248674548, -0.0015265015766455392, 0.007397659050722813, 0.6669414459097449, 0.00011163287953022424, 0.00022443102276539464, 0.6633346278816744]\n",
              " * Inf-norm of residuals: 0.535755\n",
              " * Iterations: 1000\n",
              " * Convergence: false\n",
              "   * |x - x'| < 0.0e+00: false\n",
              "   * |f(x)| < 1.0e-08: false\n",
              " * Function Calls (f): 1001\n",
              " * Jacobian Calls (df/dx): 989"
            ]
          },
          "metadata": {},
          "execution_count": 80
        }
      ]
    },
    {
      "cell_type": "code",
      "source": [
        "function φSYS2(Ψ,ΣF,rf,γ)\n",
        "\n",
        "    ## Notes\n",
        "\n",
        "        ## TODO: Generalize: All RV's have zero mean.\n",
        "        ## Z is random supply not demand\n",
        "\n",
        "    # 00. Extract Variables and Define Random Variables\n",
        "\n",
        "        a11,a12,a13,a14,a21,a22,a23,a24 = Ψ\n",
        "\n",
        "        # F = [Π1, Π2, Z1, Z2, ε1i, ε2i]\n",
        "\n",
        "    # 0. Define Private Information\n",
        "\n",
        "        S_PRIVATE1 = [1,0,0,0,1,0]     # Signal Y1: F.S_PRIVATE1\n",
        "        S_PRIVATE2 = [0,1,0,0,0,1]     # Signal Y1: F.S_PRIVATE1\n",
        "\n",
        "    # 1. Conjecture Price Function (Public Information)\n",
        "\n",
        "        ## P1 = a11*Π1 + a12*Π2 + a13*Z1 + a14*Z2\n",
        "        ## P2 = a21*Π1 + a22*Π2 + a23*Z1 + a24*Z2\n",
        "\n",
        "        S_PUBLIC1 = [a11, a12, a13, a14, 0, 0]          # Signal P1: F.S_PUBLIC\n",
        "        S_PUBLIC2 = [a21, a22, a23, a24, 0, 0]          # Signal P1: F.S_PUBLIC\n",
        "\n",
        "    # 2. Learning\n",
        "\n",
        "        ## E[Π1|S] = b11*Y1 + b12*Y2 + b13*P1 + b14*P2\n",
        "        ## E[Π2|S] = b21*Y1 + b22*Y2 + b23*P1 + b24*P2\n",
        "\n",
        "        S = hcat(S_PRIVATE1, S_PRIVATE2, S_PUBLIC1, S_PUBLIC2)\n",
        "\n",
        "        ΣYY = transpose(S) * ΣF * S                # 4x4\n",
        "        ΣFY = ΣF * S                               # 6×4\n",
        "        B = ΣFY * inv(ΣYY)                         # 6×4\n",
        "        Σ = ΣF - ΣFY * inv(ΣYY) * transpose(ΣFY)   # 6×6\n",
        "\n",
        "        B1 = B[1:2,1:2]\n",
        "        B2 = B[1:2,3:4]\n",
        "        ΣΠ = Σ[1:2,1:2]\n",
        "\n",
        "    # 3. Individual Demand (CARA)\n",
        "\n",
        "        ## Xi = {ΣΠ⁻¹ . [E[Π|S] - P*(1+rf)]} / γ\n",
        "        ##    = ΣΠ⁻¹ . {b1*Y + [b2 - I*(1+rf)]*P} / γ\n",
        "        ##    = C1*Y1 + C2*P\n",
        "\n",
        "        C1 = inv(ΣΠ) * B1 / γ\n",
        "        C2 = inv(ΣΠ) * (B2 - (1+rf)*I(2)) / γ\n",
        "\n",
        "    # 4. Demand Aggregation\n",
        "\n",
        "        ## Due to i.i.d. εi, μi aggregates to Π, therefore:\n",
        "        ## Z = C1*Π + C2*P\n",
        "\n",
        "    # 5. Market Clearing\n",
        "\n",
        "        ## P = (-inv(C2)*C1)*Π + inv(C2)*Z\n",
        "        ##   = A1*Π + A2*Z\n",
        "\n",
        "        A1 = [a11 a12;a21 a22]\n",
        "        A2 = [a13 a14;a23 a24]\n",
        "\n",
        "        EQ_MC = [A1 - (-inv(C2)*C1), A2 - inv(C2)]\n",
        "\n",
        "    return vec(vcat(EQ_MC[1],EQ_MC[2]))\n",
        "\n",
        "end"
      ],
      "metadata": {
        "id": "cOdUvUv73BwH",
        "colab": {
          "base_uri": "https://localhost:8080/"
        },
        "outputId": "5e200f67-0c66-457e-f0c2-de5148d665b4"
      },
      "execution_count": 124,
      "outputs": [
        {
          "output_type": "execute_result",
          "data": {
            "text/plain": [
              "φSYS2 (generic function with 1 method)"
            ]
          },
          "metadata": {},
          "execution_count": 124
        }
      ]
    },
    {
      "cell_type": "markdown",
      "source": [],
      "metadata": {
        "id": "5CCgU69Cbcf1"
      }
    },
    {
      "cell_type": "markdown",
      "source": [],
      "metadata": {
        "id": "E4RCAMqCbccx"
      }
    },
    {
      "cell_type": "code",
      "source": [
        "φSYS2(rand(8),diagm([1,1,1,1,1,1]),0,1)\n"
      ],
      "metadata": {
        "colab": {
          "base_uri": "https://localhost:8080/"
        },
        "id": "2eMl1Q5sa5jX",
        "outputId": "edfa097d-ae5b-4cc7-ec32-d787569c71b5"
      },
      "execution_count": 125,
      "outputs": [
        {
          "output_type": "execute_result",
          "data": {
            "text/plain": [
              "8-element Vector{Float64}:\n",
              " -0.177868383955613\n",
              "  0.0774101406562438\n",
              "  1.0172684953294246\n",
              "  0.40283524267865356\n",
              "  1.0384150468506343\n",
              "  0.3571378622223974\n",
              "  0.3023951453500945\n",
              "  0.8490299728594911"
            ]
          },
          "metadata": {},
          "execution_count": 125
        }
      ]
    },
    {
      "cell_type": "code",
      "source": [
        "x0 = [0.999,0,-0.999,0,0,0.999,0,-0.999]\n",
        "sol = nlsolve(x -> φSYS2(x, diagm([1,1,1,1,1,1]),0,1),x0)"
      ],
      "metadata": {
        "colab": {
          "base_uri": "https://localhost:8080/"
        },
        "id": "6voHUmWXek4S",
        "outputId": "616cdec7-8f3f-4a75-b94d-b1485767127f"
      },
      "execution_count": 135,
      "outputs": [
        {
          "output_type": "execute_result",
          "data": {
            "text/plain": [
              "Results of Nonlinear Solver Algorithm\n",
              " * Algorithm: Trust-region with dogleg and autoscaling\n",
              " * Starting Point: [0.999, 0.0, -0.999, 0.0, 0.0, 0.999, 0.0, -0.999]\n",
              " * Zero: [0.6666666666666661, 0.0, -0.6666666666666664, 0.0, 0.0, 0.6666666666666661, 0.0, -0.6666666666666664]\n",
              " * Inf-norm of residuals: 0.000000\n",
              " * Iterations: 5\n",
              " * Convergence: true\n",
              "   * |x - x'| < 0.0e+00: false\n",
              "   * |f(x)| < 1.0e-08: true\n",
              " * Function Calls (f): 6\n",
              " * Jacobian Calls (df/dx): 6"
            ]
          },
          "metadata": {},
          "execution_count": 135
        }
      ]
    }
  ]
}