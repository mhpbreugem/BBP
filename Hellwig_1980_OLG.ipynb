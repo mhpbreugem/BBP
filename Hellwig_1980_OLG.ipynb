{
  "nbformat": 4,
  "nbformat_minor": 0,
  "metadata": {
    "colab": {
      "provenance": [],
      "authorship_tag": "ABX9TyPItTqvAy/BapbhNVBDdFMc",
      "include_colab_link": true
    },
    "kernelspec": {
      "name": "julia-1.9",
      "display_name": "Julia 1.9.4"
    }
  },
  "cells": [
    {
      "cell_type": "markdown",
      "metadata": {
        "id": "view-in-github",
        "colab_type": "text"
      },
      "source": [
        "<a href=\"https://colab.research.google.com/github/mhpbreugem/BBP/blob/main/Hellwig_1980_OLG.ipynb\" target=\"_parent\"><img src=\"https://colab.research.google.com/assets/colab-badge.svg\" alt=\"Open In Colab\"/></a>"
      ]
    },
    {
      "cell_type": "code",
      "source": [
        "using LinearAlgebra, BenchmarkTools, Symbolics, NLsolve"
      ],
      "metadata": {
        "id": "pbFHaCF9hnwb"
      },
      "execution_count": 1,
      "outputs": []
    },
    {
      "cell_type": "markdown",
      "source": [
        "\n",
        "Hellwig (1980) OLG\n",
        "==========================================================================\n",
        "\n",
        "## 📘 Description\n",
        "\n",
        "This notebook simulates a **dynamic OLG version** of the rational expectations model from **Hellwig (1980)**.\n",
        "\n",
        "In contrast to the static original, this version incorporates a **future price** $P_1$ directly into the agent’s payoff function:\n",
        "\n",
        "$$\n",
        "\\text{Payoff} = W_0 + X_0 \\cdot (D_1 + P_1 - P_0)\n",
        "$$\n",
        "\n",
        "Agents form beliefs about the payoff-relevant latent state using:\n",
        "\n",
        "- A **private signal** $S_1 = D_1 + \\varepsilon_1$\n",
        "- A **public price** signal $P_0 = c_1 D_1 + c_z Z_0$\n",
        "\n",
        "They use **Bayesian updating** to derive posterior beliefs, compute optimal demand using **CARA utility**, and prices adjust to ensure **market clearing**.\n",
        "\n",
        "The function `φSYS0` computes the **fixed point** in price coefficients $(c_1, c_z)$ such that individual behavior and equilibrium pricing are consistent.\n",
        "\n",
        "\n",
        "\n",
        "---\n",
        "\n",
        "Step 1: Conjectured Price Function\n",
        "----------------------------------\n",
        "\n",
        "We start by postulating that prices at time 0 are linear in the fundamentals:\n",
        "\n",
        "$$P_0 = c_1 D_1 + c_z Z_0 $$\n",
        "\n",
        "We omit lagged prices ($P_{-1}$) because the fixed point equilibrium implies $c_p = 0$.\n",
        "\n",
        "The latent vector of economic fundamentals is:\n",
        "\n",
        "$$F = [D_1, D_2, Z_0, Z_1, \\varepsilon_1]$$\n",
        "\n",
        "---\n",
        "\n",
        "Step 2: Signal Structure\n",
        "------------------------\n",
        "\n",
        "Agents observe two signals:\n",
        "\n",
        "- A private signal:\n",
        "$$S_1 = D_1 + \\varepsilon_1 \\quad \\Rightarrow \\quad \\Omega_{S_1} = [1, 0, 0, 0, 1]$$\n",
        "\n",
        "- A public signal (price):\n",
        "$$P_0 = c_1 D_1 + c_z Z_0 \\quad \\Rightarrow \\quad \\Omega_{P_0} = [c_1, 0, c_z, 0, 0]$$\n",
        "\n",
        "We construct the signal matrix:\n",
        "\n",
        "$$S = \\text{hcat}(\\Omega_{S_1}, \\Omega_{P_0}) \\in \\mathbb{R}^{5 \\times 2}$$\n",
        "\n",
        "---\n",
        "\n",
        "Step 3: Bayesian Updating\n",
        "-------------------------\n",
        "\n",
        "We compute posterior beliefs based on observed signals. Define:\n",
        "\n",
        "- $\\Sigma_F$: covariance of the latent variables\n",
        "- $\\Sigma_{YY} = S^\\top \\Sigma_F S$: covariance of the signals\n",
        "- $\\Sigma_{FY} = \\Sigma_F S$: cross-covariance\n",
        "\n",
        "The posterior mean mapping is:\n",
        "\n",
        "$$B = \\Sigma_{FY} \\Sigma_{YY}^{-1} \\quad \\Rightarrow \\quad \\mathbb{E}[F \\mid S] = B S$$\n",
        "\n",
        "The posterior covariance of the latent variables is:\n",
        "\n",
        "$$\\Sigma_{\\text{post}} = \\Sigma_F - \\Sigma_{FY} \\Sigma_{YY}^{-1} \\Sigma_{FY}^\\top$$\n",
        "\n",
        "---\n",
        "\n",
        "Step 4: Individual Demand\n",
        "-------------------------\n",
        "\n",
        "Agents maximize expected utility with CARA preferences. Their consumption payoff is:\n",
        "\n",
        "$$CS = W_0 + X_0 (D_1 + P_1 - P_0) \\quad \\Rightarrow \\quad L := D_1 + P_1 - P_0$$\n",
        "\n",
        "Using the price conjecture at time 1:\n",
        "\n",
        "$$P_1 = c_1 D_2 + c_z Z_1$$\n",
        "\n",
        "we substitute:\n",
        "\n",
        "$$L = D_1 + c_1 D_2 + c_z Z_1 - P_0$$\n",
        "\n",
        "This is a linear function of $F$, with loading:\n",
        "\n",
        " $$\\lambda = [1, c_1, 0, c_z, 0]$$\n",
        "\n",
        "Posterior mean of $L$ given signals:\n",
        "\n",
        "$$\\mathbb{E}[L \\mid S] = \\lambda^\\top B S + (c_p - 1) P_0$$\n",
        "\n",
        "Let:\n",
        "\n",
        "$$EL = \\lambda^\\top B = [EL_1, EL_2]$$\n",
        "\n",
        "and define posterior variance:\n",
        "\n",
        "$$\\sigma_L^2 = \\lambda^\\top \\Sigma_{\\text{post}} \\lambda$$\n",
        "\n",
        "Then the agent's optimal demand is:\n",
        "\n",
        "$$X_0 = \\frac{EL_1 S_1 + (EL_2 - 1) P_0}{\\gamma \\sigma_L^2} = z_1 S_1 + z_2 P_0$$\n",
        "\n",
        "with:\n",
        "\n",
        "$$z_1 = \\frac{EL_1}{\\gamma \\sigma_L^2}, \\quad z_2 = \\frac{EL_2 - 1}{\\gamma \\sigma_L^2}$$\n",
        "\n",
        "---\n",
        "\n",
        "Step 5: Market Clearing and Fixed Point\n",
        "---------------------------------------\n",
        "\n",
        "In equilibrium, aggregate demand equals the exogenous noise supply:\n",
        "\n",
        "$$Z_0 = z_1 D_1 + z_2 P_0$$\n",
        "\n",
        "Solve for $P_0$:\n",
        "\n",
        "$$P_0 = \\frac{1}{z_2} Z_0 - \\frac{z_1}{z_2} D_1$$\n",
        "\n",
        "Compare this to the original conjecture:\n",
        "\n",
        "$$P_0 = c_1 D_1 + c_z Z_0$$\n",
        "\n",
        "Matching coefficients implies the fixed point conditions:\n",
        "\n",
        "$$c_1 = -\\frac{z_1}{z_2}, \\quad c_z = \\frac{1}{z_2}$$\n",
        "\n",
        "Therefore, the residuals returned by the function are:\n",
        "\n",
        "$$\\text{residual}_1 = c_1 + \\frac{z_1}{z_2}, \\quad \\text{residual}_2 = c_z - \\frac{1}{z_2}$$\n",
        "\n"
      ],
      "metadata": {
        "id": "U06kU7ieTM9z"
      }
    },
    {
      "cell_type": "code",
      "source": [
        "function φSYS0(c, ΣF, γ)\n",
        "    # Inputs:\n",
        "    # c: Vector of conjectured price coefficients [c1, cz, cp]\n",
        "    # ΣF: Covariance matrix of latent variables F = [D1, D2, Z0, Z1, ε_1]\n",
        "    # γ: Risk aversion parameter\n",
        "\n",
        "    # --- Step 1: Conjectured Price Function Coefficients ---\n",
        "    c1, cz = c\n",
        "\n",
        "    # --- Step 2: Define Signal Matrix ---\n",
        "    ΩS1 = [1.0, 0.0, 0.0, 0.0, 1.0]     # S₁ = D₁ + ε₁\n",
        "    ΩP0 = [c1 , 0.0, cz , 0.0, 0.0]     # P₀ = c₁ D₁ + c_z Z₀\n",
        "\n",
        "    S = hcat(ΩS1, ΩP0)                  # 5×2 signal matrix\n",
        "\n",
        "    # --- Step 3: Bayesian Updating ---\n",
        "    ΣYY = transpose(S) * ΣF * S\n",
        "    ΣFY = ΣF * S\n",
        "    B = ΣFY * inv(ΣYY)                  # 5×2 posterior mean coefficients\n",
        "    Σ_post = ΣF - ΣFY * inv(ΣYY) * transpose(ΣFY)\n",
        "\n",
        "    # --- Step 4: Compute Optimal Demand Coefficients ---\n",
        "   #λ = [1.0, 0.0, 0.0, 0.0, 0.0]        (using this λ removes P1 from the payoff and implies Hellwig 1980)\n",
        "    λ = [1.0, c1, 0.0, cz, 0.0]         # L = D₁ + P₁ - P₀ (L = λ'F -P₀)\n",
        "    σL2 = dot(λ, Σ_post * λ)\n",
        "    EL = transpose(λ) * B               # E[L | signals] = EL₁ * S₁ + EL₂ * P₀\n",
        "\n",
        "    z1 =  EL[1]      / (γ * σL2)\n",
        "    z2 = (EL[2] - 1) / (γ * σL2)\n",
        "\n",
        "    # --- Step 5: Verify Conjecture by Fixed Point Conditions ---\n",
        "    c1_new = -z1 / z2\n",
        "    cz_new = 1 / z2\n",
        "\n",
        "    return [c1 - c1_new, cz - cz_new]\n",
        "end\n"
      ],
      "metadata": {
        "colab": {
          "base_uri": "https://localhost:8080/"
        },
        "id": "Xi9M7y3Cucqo",
        "outputId": "c08cba03-252a-4f82-ce4c-30ceab407896"
      },
      "execution_count": 2,
      "outputs": [
        {
          "output_type": "execute_result",
          "data": {
            "text/plain": [
              "φSYS0 (generic function with 1 method)"
            ]
          },
          "metadata": {},
          "execution_count": 2
        }
      ]
    },
    {
      "cell_type": "code",
      "source": [
        "using Optim\n",
        "\n",
        "function solve_optim()\n",
        "    ΣF = diagm([1,1,1,1,0.1])\n",
        "    γ = 1\n",
        "    φ_wrapped(c) = sum(abs2, φSYS0(c, ΣF, γ))\n",
        "    result = optimize(φ_wrapped, [1, -1.12])\n",
        "    return Optim.minimizer(result)\n",
        "end\n",
        "\n",
        "solve_optim()"
      ],
      "metadata": {
        "colab": {
          "base_uri": "https://localhost:8080/"
        },
        "id": "gsZjCDrtDHy2",
        "outputId": "5e9bfca8-60ae-47fc-f3d6-2b71438e1f12"
      },
      "execution_count": 3,
      "outputs": [
        {
          "output_type": "execute_result",
          "data": {
            "text/plain": [
              "2-element Vector{Float64}:\n",
              "  0.5632110545571346\n",
              " -0.6727938454264809"
            ]
          },
          "metadata": {},
          "execution_count": 3
        }
      ]
    }
  ]
}