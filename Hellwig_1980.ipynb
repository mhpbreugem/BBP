{
  "nbformat": 4,
  "nbformat_minor": 0,
  "metadata": {
    "colab": {
      "provenance": [],
      "authorship_tag": "ABX9TyOK9GmHeYaCKyXUcTbvabep",
      "include_colab_link": true
    },
    "kernelspec": {
      "name": "julia-1.9",
      "display_name": "Julia 1.9.4"
    }
  },
  "cells": [
    {
      "cell_type": "markdown",
      "metadata": {
        "id": "view-in-github",
        "colab_type": "text"
      },
      "source": [
        "<a href=\"https://colab.research.google.com/github/mhpbreugem/BBP/blob/main/Hellwig_1980.ipynb\" target=\"_parent\"><img src=\"https://colab.research.google.com/assets/colab-badge.svg\" alt=\"Open In Colab\"/></a>"
      ]
    },
    {
      "cell_type": "code",
      "source": [
        "using LinearAlgebra, BenchmarkTools"
      ],
      "metadata": {
        "id": "pbFHaCF9hnwb"
      },
      "execution_count": 1,
      "outputs": []
    },
    {
      "cell_type": "code",
      "execution_count": 31,
      "metadata": {
        "id": "QoIRqBjMWvcf"
      },
      "outputs": [],
      "source": [
        "# 1. Conjecture Price Function\n",
        "\n",
        "## P = a1*Z + a2*Π\n",
        "\n",
        "# 2. Learning\n",
        "\n",
        "## Yi = Π + εi\n",
        "## μi = b1*Y + b2*P\n",
        "## σi = ...\n",
        "\n",
        "# 3. Individual Demand\n",
        "\n",
        "## Xi = c1*μi + c2*P = d1*Π + d2*εi\n",
        "\n",
        "# 4. Market Clearing\n",
        "\n",
        "## Xbar = k1*P + k2*Π\n",
        "\n",
        "# 5. Verify Conjecture"
      ]
    },
    {
      "cell_type": "code",
      "source": [
        "function φS(A, Ψ)\n",
        "    S1 = [A[1], A[2], 0.0]\n",
        "    S2 = [1.0, 0.0, 1.0]\n",
        "    S_full = hcat(S1, S2)\n",
        "    return S_full[:, findall(Ψ .== 1)]\n",
        "end"
      ],
      "metadata": {
        "colab": {
          "base_uri": "https://localhost:8080/"
        },
        "id": "jTZNSPDqTUPM",
        "outputId": "37bc85f0-ae52-4e9e-b421-a49c64e972ce"
      },
      "execution_count": 32,
      "outputs": [
        {
          "output_type": "execute_result",
          "data": {
            "text/plain": [
              "φS (generic function with 1 method)"
            ]
          },
          "metadata": {},
          "execution_count": 32
        }
      ]
    },
    {
      "cell_type": "code",
      "source": [
        "function post_coef(ΣF, S)\n",
        "    ΣYY = transpose(S) * ΣF * S                # 2×2\n",
        "    ΣFY = ΣF * S                               # 3×2\n",
        "    B = ΣFY * inv(ΣYY)                         # 3×2\n",
        "    Ω = ΣF - ΣFY * inv(ΣYY) * transpose(ΣFY)   # 3×3\n",
        "    return B, Ω\n",
        "end"
      ],
      "metadata": {
        "colab": {
          "base_uri": "https://localhost:8080/"
        },
        "id": "Ef89Qgvxdkxu",
        "outputId": "4872a51d-a45e-4398-e9d1-f4ef19699358"
      },
      "execution_count": 33,
      "outputs": [
        {
          "output_type": "execute_result",
          "data": {
            "text/plain": [
              "post_coef (generic function with 1 method)"
            ]
          },
          "metadata": {},
          "execution_count": 33
        }
      ]
    },
    {
      "cell_type": "code",
      "source": [
        "function demand_affine(EF, SigmaF, A, Psi, rf, gamma)\n",
        "    S1 = [A[1], A[2], 0.0]\n",
        "    S2 = [1.0, 0.0, 1.0]\n",
        "    S_full = hcat(S1, S2)\n",
        "    S = S_full[:, findall(Psi .== 1)]\n",
        "\n",
        "    B, Omega = post_coef(SigmaF, S)\n",
        "    b = B[1, :]\n",
        "    sigma2 = Omega[1, 1]\n",
        "    expected_signals = transpose(S) * EF\n",
        "\n",
        "    C = (b - [1 + rf, 0.0][1:length(b)]) / (gamma * sigma2)\n",
        "    X0 = (EF[1] - dot(b, expected_signals)) / (gamma * sigma2)\n",
        "\n",
        "    return X0, C\n",
        "end"
      ],
      "metadata": {
        "colab": {
          "base_uri": "https://localhost:8080/"
        },
        "id": "eaCXPEFYaxC1",
        "outputId": "c3f7ef4d-be50-419f-f25c-0276f09aa822"
      },
      "execution_count": 36,
      "outputs": [
        {
          "output_type": "execute_result",
          "data": {
            "text/plain": [
              "demand_affine (generic function with 1 method)"
            ]
          },
          "metadata": {},
          "execution_count": 36
        }
      ]
    },
    {
      "cell_type": "code",
      "source": [
        "ΣF = diagm([0.25, 0.64, 1.0])\n",
        "B, Ω = post_coef(ΣF, φS([1.5, 2.0], [1,1]))"
      ],
      "metadata": {
        "colab": {
          "base_uri": "https://localhost:8080/"
        },
        "id": "-OGTijg3T9cJ",
        "outputId": "ec8d4187-df2d-4dfd-d8e3-17af8d2922cd"
      },
      "execution_count": 34,
      "outputs": [
        {
          "output_type": "execute_result",
          "data": {
            "text/plain": [
              "([0.09966777408637875 0.1700996677740864; 0.42524916943521596 -0.1275747508305648; -0.09966777408637874 0.8299003322259136], [0.17009966777408636 -0.1275747508305648 -0.1700996677740864; -0.12757475083056477 0.09568106312292357 0.1275747508305648; -0.1700996677740864 0.1275747508305648 0.17009966777408636])"
            ]
          },
          "metadata": {},
          "execution_count": 34
        }
      ]
    },
    {
      "cell_type": "code",
      "source": [
        "EF = [1.0, 0.0, 0.0]\n",
        "SigmaF = diagm([0.25, 0.64, 1.0])\n",
        "A = [1.5, 2.0]\n",
        "Psi = [1, 1]      # use both signals: P and Y\n",
        "rf = 0.01\n",
        "gamma = 3.0\n",
        "\n",
        "X0, C = demand_affine(EF, SigmaF, A, Psi, rf, gamma)\n",
        "\n",
        "println(\"Demand = X0 + C[1]*P + C[2]*Y\")\n",
        "println(\"X0 = \", X0)\n",
        "println(\"C = \", C)\n"
      ],
      "metadata": {
        "colab": {
          "base_uri": "https://localhost:8080/"
        },
        "id": "JHURZZr1bYbJ",
        "outputId": "82cb4a89-04a9-44e8-d261-48041ae2726d"
      },
      "execution_count": 37,
      "outputs": [
        {
          "output_type": "stream",
          "name": "stdout",
          "text": [
            "Demand = X0 + C[1]*P + C[2]*Y\n",
            "X0 = 1.3333333333333333\n",
            "C = [-1.7839192708333336, 0.33333333333333337]\n"
          ]
        }
      ]
    },
    {
      "cell_type": "code",
      "source": [
        "function phiA(EF, SigmaF, A, Psi, rf, gamma, Xbar)\n",
        "    # Build signal matrix\n",
        "    S1 = [A[1], A[2], 0.0]\n",
        "    S2 = [1.0, 0.0, 1.0]\n",
        "    S_full = hcat(S1, S2)\n",
        "    S = S_full[:, findall(Psi .== 1)]\n",
        "\n",
        "    # Posterior coefficients\n",
        "    SigmaYY = transpose(S) * SigmaF * S\n",
        "    SigmaFY = SigmaF * S\n",
        "    B = SigmaFY * inv(SigmaYY)\n",
        "    Omega = SigmaF - B * transpose(S) * SigmaF\n",
        "\n",
        "    # Posterior mean of Pi\n",
        "    b = B[1, :]\n",
        "    sigma2 = Omega[1, 1]\n",
        "    mu_signals = transpose(S) * EF\n",
        "\n",
        "    C = (b - [1 + rf, 0.0][1:length(b)]) / (gamma * sigma2)\n",
        "    X0 = (EF[1] - dot(b, mu_signals)) / (gamma * sigma2)\n",
        "\n",
        "    # Compute price equation coefficients\n",
        "    a1 = -1 / C[1]\n",
        "    a2 = -C[2] / C[1]\n",
        "\n",
        "    return a1, a2\n",
        "end\n"
      ],
      "metadata": {
        "colab": {
          "base_uri": "https://localhost:8080/"
        },
        "id": "usUl5j3fd5kA",
        "outputId": "4d956c9c-43b6-4420-87ff-1c92e48e9923"
      },
      "execution_count": 38,
      "outputs": [
        {
          "output_type": "execute_result",
          "data": {
            "text/plain": [
              "phiA (generic function with 1 method)"
            ]
          },
          "metadata": {},
          "execution_count": 38
        }
      ]
    },
    {
      "cell_type": "code",
      "source": [
        "# Prior mean and covariance\n",
        "EF = [1.0, 0.0, 0.0]                        # Prior mean of F = [Pi, Z, eps]\n",
        "SigmaF = diagm([0.25, 0.64, 1.0])           # Prior covariance matrix\n",
        "\n",
        "# Signal definition\n",
        "A = [1.5, 2.0]                              # Defines P = 1.5*Pi + 2.0*Z\n",
        "Psi = [1, 1]                                # Use both P and Y signals\n",
        "\n",
        "# Market parameters\n",
        "rf = 0.01                                   # Risk-free rate\n",
        "gamma = 3.0                                 # Risk aversion\n",
        "Xbar = 1.0                                  # Target aggregate demand\n",
        "\n",
        "# Call the function\n",
        "P0, a1, a2 = phiA(EF, SigmaF, A, Psi, rf, gamma, Xbar)\n",
        "\n",
        "# Show the results\n",
        "println(\"Equilibrium price is: P = P0 + a1*Z + a2*Pi\")\n",
        "println(\"P0 = \", P0)\n",
        "println(\"a1 = \", a1)\n",
        "println(\"a2 = \", a2)\n"
      ],
      "metadata": {
        "colab": {
          "base_uri": "https://localhost:8080/"
        },
        "id": "-Qrzu4KWelM6",
        "outputId": "add2f80a-683e-49ab-ff59-98c02b871d63"
      },
      "execution_count": 39,
      "outputs": [
        {
          "output_type": "stream",
          "name": "stdout",
          "text": [
            "Equilibrium price is: P = P0 + a1*Z + a2*Pi\n",
            "P0 = 0.18685449436151957\n",
            "a1 = 0.5605634830845588\n",
            "a2 = 0.18685449436151966\n"
          ]
        }
      ]
    },
    {
      "cell_type": "code",
      "source": [
        "# Define phiA (as from your previous setup)\n",
        "function phiA(SigmaF, A, rf, gamma)\n",
        "    S1 = [A[1], A[2], 0.0]\n",
        "    S2 = [1.0, 0.0, 1.0]\n",
        "    S_full = hcat(S1, S2)\n",
        "    S = S_full[:, findall(Psi .== 1)]\n",
        "\n",
        "    SigmaYY = transpose(S) * SigmaF * S\n",
        "    SigmaFY = SigmaF * S\n",
        "    B = SigmaFY * inv(SigmaYY)\n",
        "    Omega = SigmaF - B * transpose(S) * SigmaF\n",
        "\n",
        "    b = B[1, :]\n",
        "    sigma2 = Omega[1, 1]\n",
        "    mu_signals = transpose(S) * EF\n",
        "\n",
        "    C = (b - [1 + rf, 0.0][1:length(b)]) / (gamma * sigma2)\n",
        "    X0 = (EF[1] - dot(b, mu_signals)) / (gamma * sigma2)\n",
        "\n",
        "    a1 = -1 / C[1]\n",
        "    a2 = -C[2] / C[1]\n",
        "    return [a1, a2]\n",
        "end\n",
        "\n",
        "# Parameters\n",
        "SigmaF = diagm([0.25, 0.64, 1.0])\n",
        "rf = 0.01\n",
        "gamma = 3.0\n",
        "Xbar = 1.0\n",
        "\n",
        "# Initial guess for A\n",
        "A = [1.0, 1.0]\n",
        "\n",
        "# Fixed-point iteration\n",
        "tol = 1e-8\n",
        "max_iter = 100\n",
        "for iter in 1:max_iter\n",
        "    A_new = phiA(SigmaF, A, rf, gamma)\n",
        "    if norm(A_new - A) < tol\n",
        "        println(\"Converged after $iter iterations.\")\n",
        "        break\n",
        "    end\n",
        "    A = A_new\n",
        "end\n",
        "\n",
        "println(\"Fixed-point solution: A = \", A)\n"
      ],
      "metadata": {
        "colab": {
          "base_uri": "https://localhost:8080/"
        },
        "id": "qVlanAMxkwIi",
        "outputId": "7d35c6cf-fa79-43d7-e300-4af0cd39a1d1"
      },
      "execution_count": 48,
      "outputs": [
        {
          "output_type": "stream",
          "name": "stdout",
          "text": [
            "Converged after 15 iterations.\n",
            "Fixed-point solution: A = [-3.384202833851234e-9, -1.1280676112837466e-9]\n"
          ]
        }
      ]
    }
  ]
}