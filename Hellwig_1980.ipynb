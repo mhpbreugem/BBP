{
  "nbformat": 4,
  "nbformat_minor": 0,
  "metadata": {
    "colab": {
      "provenance": [],
      "authorship_tag": "ABX9TyOWRYnuWq6AlCrL+THsY2qB",
      "include_colab_link": true
    },
    "kernelspec": {
      "name": "julia-1.9",
      "display_name": "Julia 1.9.4"
    }
  },
  "cells": [
    {
      "cell_type": "markdown",
      "metadata": {
        "id": "view-in-github",
        "colab_type": "text"
      },
      "source": [
        "<a href=\"https://colab.research.google.com/github/mhpbreugem/BBP/blob/main/Hellwig_1980.ipynb\" target=\"_parent\"><img src=\"https://colab.research.google.com/assets/colab-badge.svg\" alt=\"Open In Colab\"/></a>"
      ]
    },
    {
      "cell_type": "code",
      "source": [
        "using LinearAlgebra, BenchmarkTools, Symbolics, NLsolve"
      ],
      "metadata": {
        "id": "pbFHaCF9hnwb"
      },
      "execution_count": 140,
      "outputs": []
    },
    {
      "cell_type": "code",
      "source": [
        "function φSYS(Ψ,ΣF,rf,γ)\n",
        "\n",
        "    # 00. Extract Variables and Define Random Variables\n",
        "\n",
        "        a1,a2,b1,b2,c1,c2,d1,d2,ΣΠ = Ψ\n",
        "        # F = [X, Z, εi]\n",
        "\n",
        "    # 0. Define Private Information\n",
        "\n",
        "        S_PRIVATE = [1.0, 0.0, 1.0]     # Signal Y: F.S_PRIVATE\n",
        "\n",
        "    # 1. Conjecture Price Function (Public Information)\n",
        "\n",
        "        ## P = a1*Π + a2*Z\n",
        "\n",
        "        S_PUBLIC = [a1, a2, 0]          # Signal P: F.S_PUBLIC\n",
        "\n",
        "    # 2. Learning\n",
        "\n",
        "        S = hcat(S_PRIVATE, S_PUBLIC)\n",
        "\n",
        "        ΣYY = transpose(S) * ΣF * S                # 2×2\n",
        "        ΣFY = ΣF * S                               # 3×2\n",
        "        B = ΣFY * inv(ΣYY)                         # 3×2\n",
        "        Σ = ΣF - ΣFY * inv(ΣYY) * transpose(ΣFY)   # 3×3\n",
        "\n",
        "        EQ_LEARN = [b1 - B[1,1], b2 - B[1,2], ΣΠ - Σ[1,1]]\n",
        "\n",
        "    # 3. Individual Demand (CARA)\n",
        "\n",
        "        ## Xi = [E[Π|S] - P*(1+rf)] / (γ*ΣΠ)\n",
        "        ##    = {b1*Y + [b2 - (1+rf)]*P} / (γ*ΣΠ)\n",
        "\n",
        "        EQ_DEMAND = [c1 - b1/(γ*ΣΠ), c2 - b2*(1+rf)/(γ*ΣΠ)]\n",
        "\n",
        "    # 4. Demand Aggregation\n",
        "\n",
        "        ## Due to i.i.d. εi, μi aggregates to Π\n",
        "        ## Xbar(=0) - Z = d1*Π + d2*P\n",
        "\n",
        "        EQ_AGGREGATION = [d1 - c1, d2 - c2]\n",
        "\n",
        "    # 5. Market Clearing\n",
        "\n",
        "        ## TODO: FOR NOW: Xbar = 0\n",
        "        ## P = (-d2/d1)*Π + (-1/d2)*Z\n",
        "        ##   = a1*Π + a2*Z\n",
        "\n",
        "        EQ_MC = [a1 - (-d2/d1), a2 - (-1/d2)]\n",
        "\n",
        "    return vcat(EQ_LEARN, EQ_DEMAND, EQ_AGGREGATION,EQ_MC)\n",
        "    #return a1^2,a2^2,b1^2,b2^2,c1^2,c2^2,d1^2,d2^2,k1^2,k2^2,(Σ-1)^2\n",
        "end"
      ],
      "metadata": {
        "colab": {
          "base_uri": "https://localhost:8080/"
        },
        "id": "lPKgmgDkFqvy",
        "outputId": "6abb6770-9426-4bec-c2e3-cc6e62468d07"
      },
      "execution_count": 187,
      "outputs": [
        {
          "output_type": "execute_result",
          "data": {
            "text/plain": [
              "φSYS (generic function with 4 methods)"
            ]
          },
          "metadata": {},
          "execution_count": 187
        }
      ]
    },
    {
      "cell_type": "code",
      "source": [
        "φSYS([0.5,0.5,0.5,0.5,0.5,0.5,0.5,0.5,0.5],diagm([1, 1, 1]),0,1)"
      ],
      "metadata": {
        "colab": {
          "base_uri": "https://localhost:8080/"
        },
        "id": "66oI95aGGbfP",
        "outputId": "ceb3c698-f428-4b28-dc89-a9842f70ceab"
      },
      "execution_count": 203,
      "outputs": [
        {
          "output_type": "execute_result",
          "data": {
            "text/plain": [
              "9-element Vector{Float64}:\n",
              "  0.16666666666666669\n",
              " -0.16666666666666663\n",
              "  0.16666666666666663\n",
              " -0.5\n",
              " -0.5\n",
              "  0.0\n",
              "  0.0\n",
              "  1.5\n",
              "  2.5"
            ]
          },
          "metadata": {},
          "execution_count": 203
        }
      ]
    },
    {
      "cell_type": "code",
      "source": [
        "x0 = 0.5*ones(9)  # Initial guess for the 9 parameters\n",
        "sol = nlsolve(x -> φSYS(x, diagm([1, 1, 1]),0.01,1), x0)"
      ],
      "metadata": {
        "colab": {
          "base_uri": "https://localhost:8080/"
        },
        "id": "7B6SKH0IHtEg",
        "outputId": "a79bbc94-e419-4d4a-ebd6-1788c64820e4"
      },
      "execution_count": 207,
      "outputs": [
        {
          "output_type": "execute_result",
          "data": {
            "text/plain": [
              "Results of Nonlinear Solver Algorithm\n",
              " * Algorithm: Trust-region with dogleg and autoscaling\n",
              " * Starting Point: [0.5, 0.5, 0.5, 0.5, 0.5, 0.5, 0.5, 0.5, 0.5]\n",
              " * Zero: [-0.00412725546985542, -242.2887029292894, 0.5000000980929187, 0.0013711330696727427, 1.0000080321330063, 0.0034485042346326295, 1.0000080482478226, 0.0041273040340829665, 0.4999961061013369]\n",
              " * Inf-norm of residuals: 0.001371\n",
              " * Iterations: 1000\n",
              " * Convergence: false\n",
              "   * |x - x'| < 0.0e+00: false\n",
              "   * |f(x)| < 1.0e-08: false\n",
              " * Function Calls (f): 1000\n",
              " * Jacobian Calls (df/dx): 985"
            ]
          },
          "metadata": {},
          "execution_count": 207
        }
      ]
    }
  ]
}